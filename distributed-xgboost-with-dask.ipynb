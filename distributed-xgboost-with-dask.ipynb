{
 "cells": [
  {
   "cell_type": "markdown",
   "id": "f56d13dd-2a37-4164-8898-2f8fdee8a460",
   "metadata": {},
   "source": [
    "# Distributed XGBoost with Dask on CML\n",
    "\n",
    "something something\n",
    "\n",
    "\n",
    "Code examples drawn in part from the [documentation](https://xgboost.readthedocs.io/en/stable/tutorials/dask.html) and [this blog post](https://medium.com/rapids-ai/a-new-official-dask-api-for-xgboost-e8b10f3d1eb7) published by RAPIDS AI, both excellent sources of information for further details. \n",
    "\n"
   ]
  },
  {
   "cell_type": "code",
   "execution_count": null,
   "id": "bd502da0-816b-44e7-b98c-3664d6c37057",
   "metadata": {},
   "outputs": [],
   "source": [
    "!pip3 install xgboost"
   ]
  },
  {
   "cell_type": "code",
   "execution_count": 1,
   "id": "72a60325-13e5-470a-837f-1526fd92ca0a",
   "metadata": {},
   "outputs": [],
   "source": [
    "import os\n",
    "import time\n",
    "\n",
    "import cdsw\n",
    "import xgboost as xgb\n",
    "import dask.array as da\n",
    "from dask import dataframe as dd\n",
    "import dask_ml\n",
    "\n",
    "from dask.distributed import Client"
   ]
  },
  {
   "cell_type": "markdown",
   "id": "a23d5e15-6e01-4ba8-b1f2-968820b6a129",
   "metadata": {},
   "source": [
    "## Start up Dask Cluster"
   ]
  },
  {
   "cell_type": "code",
   "execution_count": 2,
   "id": "8bbcf8d1-2ed1-4f3e-bb94-373b138c0366",
   "metadata": {},
   "outputs": [],
   "source": [
    "dask_scheduler = cdsw.launch_workers(\n",
    "    n=1,\n",
    "    cpu=1,\n",
    "    memory=2,\n",
    "    code=f\"!dask-scheduler --host 0.0.0.0 --dashboard-address 127.0.0.1:8090 --scheduler-file /home/cdsw/_scheduler_/dask.log\",\n",
    ")\n",
    "\n",
    "# Wait for the scheduler to start.\n",
    "time.sleep(10)"
   ]
  },
  {
   "cell_type": "code",
   "execution_count": 3,
   "id": "48a5a6fc-cec9-44b9-8d38-fd1e5dc790b1",
   "metadata": {},
   "outputs": [],
   "source": [
    "def get_scheduler_url(dask_scheduler):\n",
    "    scheduler_workers = cdsw.list_workers()\n",
    "    scheduler_id = dask_scheduler[0][\"id\"]\n",
    "    scheduler_ip = [\n",
    "        worker[\"ip_address\"] for worker in scheduler_workers if worker[\"id\"] == scheduler_id\n",
    "    ][0]\n",
    "\n",
    "    return f\"tcp://{scheduler_ip}:8786\"\n",
    "\n",
    "scheduler_url = get_scheduler_url(dask_scheduler)"
   ]
  },
  {
   "cell_type": "code",
   "execution_count": 4,
   "id": "2957f2c9-739b-4990-b9dc-17a2dc1da827",
   "metadata": {},
   "outputs": [],
   "source": [
    "N_WORKERS = 3\n",
    "\n",
    "dask_workers = cdsw.launch_workers(\n",
    "    n=N_WORKERS,\n",
    "    cpu=1,\n",
    "    memory=4,\n",
    "    code=f\"!dask-worker {scheduler_url} --local-directory /home/cdsw/_worker_\",\n",
    ")\n",
    "\n",
    "# Wait for the workers to start.\n",
    "time.sleep(10)"
   ]
  },
  {
   "cell_type": "code",
   "execution_count": 5,
   "id": "9fe22fe9-f396-44b2-8f0b-b94d8e778f27",
   "metadata": {},
   "outputs": [],
   "source": [
    "client = Client(scheduler_url)"
   ]
  },
  {
   "cell_type": "markdown",
   "id": "4cc3c959-756b-4580-9d86-5c2fac2beec8",
   "metadata": {},
   "source": [
    "## Get some data\n",
    "\n",
    "In this example we'll be using the [HIGGs data](https://archive.ics.uci.edu/ml/datasets/HIGGS) from the UCI Machine Learning Repository. This binary classification dataset contains 11 million samples consisting of 28 features for each sample.  This dataset is quite large and likely won't fit in memory  as it requires nearly 8GiB on disk (and we've suggested that you run this notebook with only 2 GiB). This is a prime example of a time when distributed training will serve us well - when our local RAM or computational resources are not sufficient for the task at hand.  \n",
    "\n",
    "\n",
    "In the cells below we download the dataset and unzip it (Dask DataFrames don't play nice with zipped data formats)."
   ]
  },
  {
   "cell_type": "code",
   "execution_count": 13,
   "id": "b8e07b38-466e-4236-af58-ed0d6e2ffe13",
   "metadata": {},
   "outputs": [
    {
     "name": "stdout",
     "output_type": "stream",
     "text": [
      "  % Total    % Received % Xferd  Average Speed   Time    Time     Time  Current\n",
      "                                 Dload  Upload   Total   Spent    Left  Speed\n",
      "100 2685M  100 2685M    0     0  85.5M      0  0:00:31  0:00:31 --:--:-- 97.1M\n"
     ]
    }
   ],
   "source": [
    "# download from the UCI archives\n",
    "!curl https://archive.ics.uci.edu/ml/machine-learning-databases/00280/HIGGS.csv.gz --output HIGGS.csv.gz"
   ]
  },
  {
   "cell_type": "code",
   "execution_count": 16,
   "id": "e5f3ab69-e64b-4517-9fbe-f4a34bb262e4",
   "metadata": {},
   "outputs": [],
   "source": [
    "!gzip -d HIGGS.csv.gz"
   ]
  },
  {
   "cell_type": "markdown",
   "id": "d69445e4-4332-4c08-849c-72af1acf73ca",
   "metadata": {},
   "source": [
    "Next we load the data into a Dask Dataframe. From the data description, we know the first column is the label, with all other columns being features. "
   ]
  },
  {
   "cell_type": "code",
   "execution_count": 6,
   "id": "7bf0ae4f-acbb-473e-b909-f3de6998f6be",
   "metadata": {},
   "outputs": [],
   "source": [
    "colnames = ['label'] + ['feature-%02d' % i for i in range(1, 29)]\n",
    "dask_df = dd.read_csv(\"HIGGS.csv\", header=None, names=colnames)"
   ]
  },
  {
   "cell_type": "markdown",
   "id": "48fa4e61-0238-4a65-a410-ea81c7adc52c",
   "metadata": {},
   "source": [
    "We now have a Dask DataFrame. These objects mimic much, but not all, of the functionality of a traditional Pandas DataFrame. We can take a look at the object we have, but it's not very interesting yet. This is because Dask operations are lazily evaluated, that is, no computations are performed until explicitly asked for by calling `.compute()`. Dask is _lazy_ in everything it does, including reading in the actual values of the dataset."
   ]
  },
  {
   "cell_type": "code",
   "execution_count": 7,
   "id": "4d57bf2b-0960-41fb-ab91-1f0f91137cb8",
   "metadata": {},
   "outputs": [
    {
     "data": {
      "text/html": [
       "<div><strong>Dask DataFrame Structure:</strong></div>\n",
       "<div>\n",
       "<style scoped>\n",
       "    .dataframe tbody tr th:only-of-type {\n",
       "        vertical-align: middle;\n",
       "    }\n",
       "\n",
       "    .dataframe tbody tr th {\n",
       "        vertical-align: top;\n",
       "    }\n",
       "\n",
       "    .dataframe thead th {\n",
       "        text-align: right;\n",
       "    }\n",
       "</style>\n",
       "<table border=\"1\" class=\"dataframe\">\n",
       "  <thead>\n",
       "    <tr style=\"text-align: right;\">\n",
       "      <th></th>\n",
       "      <th>label</th>\n",
       "      <th>feature-01</th>\n",
       "      <th>feature-02</th>\n",
       "      <th>feature-03</th>\n",
       "      <th>feature-04</th>\n",
       "      <th>feature-05</th>\n",
       "      <th>feature-06</th>\n",
       "      <th>feature-07</th>\n",
       "      <th>feature-08</th>\n",
       "      <th>feature-09</th>\n",
       "      <th>feature-10</th>\n",
       "      <th>feature-11</th>\n",
       "      <th>feature-12</th>\n",
       "      <th>feature-13</th>\n",
       "      <th>feature-14</th>\n",
       "      <th>feature-15</th>\n",
       "      <th>feature-16</th>\n",
       "      <th>feature-17</th>\n",
       "      <th>feature-18</th>\n",
       "      <th>feature-19</th>\n",
       "      <th>feature-20</th>\n",
       "      <th>feature-21</th>\n",
       "      <th>feature-22</th>\n",
       "      <th>feature-23</th>\n",
       "      <th>feature-24</th>\n",
       "      <th>feature-25</th>\n",
       "      <th>feature-26</th>\n",
       "      <th>feature-27</th>\n",
       "      <th>feature-28</th>\n",
       "    </tr>\n",
       "    <tr>\n",
       "      <th>npartitions=125</th>\n",
       "      <th></th>\n",
       "      <th></th>\n",
       "      <th></th>\n",
       "      <th></th>\n",
       "      <th></th>\n",
       "      <th></th>\n",
       "      <th></th>\n",
       "      <th></th>\n",
       "      <th></th>\n",
       "      <th></th>\n",
       "      <th></th>\n",
       "      <th></th>\n",
       "      <th></th>\n",
       "      <th></th>\n",
       "      <th></th>\n",
       "      <th></th>\n",
       "      <th></th>\n",
       "      <th></th>\n",
       "      <th></th>\n",
       "      <th></th>\n",
       "      <th></th>\n",
       "      <th></th>\n",
       "      <th></th>\n",
       "      <th></th>\n",
       "      <th></th>\n",
       "      <th></th>\n",
       "      <th></th>\n",
       "      <th></th>\n",
       "      <th></th>\n",
       "    </tr>\n",
       "  </thead>\n",
       "  <tbody>\n",
       "    <tr>\n",
       "      <th></th>\n",
       "      <td>float64</td>\n",
       "      <td>float64</td>\n",
       "      <td>float64</td>\n",
       "      <td>float64</td>\n",
       "      <td>float64</td>\n",
       "      <td>float64</td>\n",
       "      <td>float64</td>\n",
       "      <td>float64</td>\n",
       "      <td>float64</td>\n",
       "      <td>float64</td>\n",
       "      <td>float64</td>\n",
       "      <td>float64</td>\n",
       "      <td>float64</td>\n",
       "      <td>float64</td>\n",
       "      <td>float64</td>\n",
       "      <td>float64</td>\n",
       "      <td>float64</td>\n",
       "      <td>float64</td>\n",
       "      <td>float64</td>\n",
       "      <td>float64</td>\n",
       "      <td>float64</td>\n",
       "      <td>float64</td>\n",
       "      <td>float64</td>\n",
       "      <td>float64</td>\n",
       "      <td>float64</td>\n",
       "      <td>float64</td>\n",
       "      <td>float64</td>\n",
       "      <td>float64</td>\n",
       "      <td>float64</td>\n",
       "    </tr>\n",
       "    <tr>\n",
       "      <th></th>\n",
       "      <td>...</td>\n",
       "      <td>...</td>\n",
       "      <td>...</td>\n",
       "      <td>...</td>\n",
       "      <td>...</td>\n",
       "      <td>...</td>\n",
       "      <td>...</td>\n",
       "      <td>...</td>\n",
       "      <td>...</td>\n",
       "      <td>...</td>\n",
       "      <td>...</td>\n",
       "      <td>...</td>\n",
       "      <td>...</td>\n",
       "      <td>...</td>\n",
       "      <td>...</td>\n",
       "      <td>...</td>\n",
       "      <td>...</td>\n",
       "      <td>...</td>\n",
       "      <td>...</td>\n",
       "      <td>...</td>\n",
       "      <td>...</td>\n",
       "      <td>...</td>\n",
       "      <td>...</td>\n",
       "      <td>...</td>\n",
       "      <td>...</td>\n",
       "      <td>...</td>\n",
       "      <td>...</td>\n",
       "      <td>...</td>\n",
       "      <td>...</td>\n",
       "    </tr>\n",
       "    <tr>\n",
       "      <th>...</th>\n",
       "      <td>...</td>\n",
       "      <td>...</td>\n",
       "      <td>...</td>\n",
       "      <td>...</td>\n",
       "      <td>...</td>\n",
       "      <td>...</td>\n",
       "      <td>...</td>\n",
       "      <td>...</td>\n",
       "      <td>...</td>\n",
       "      <td>...</td>\n",
       "      <td>...</td>\n",
       "      <td>...</td>\n",
       "      <td>...</td>\n",
       "      <td>...</td>\n",
       "      <td>...</td>\n",
       "      <td>...</td>\n",
       "      <td>...</td>\n",
       "      <td>...</td>\n",
       "      <td>...</td>\n",
       "      <td>...</td>\n",
       "      <td>...</td>\n",
       "      <td>...</td>\n",
       "      <td>...</td>\n",
       "      <td>...</td>\n",
       "      <td>...</td>\n",
       "      <td>...</td>\n",
       "      <td>...</td>\n",
       "      <td>...</td>\n",
       "      <td>...</td>\n",
       "    </tr>\n",
       "    <tr>\n",
       "      <th></th>\n",
       "      <td>...</td>\n",
       "      <td>...</td>\n",
       "      <td>...</td>\n",
       "      <td>...</td>\n",
       "      <td>...</td>\n",
       "      <td>...</td>\n",
       "      <td>...</td>\n",
       "      <td>...</td>\n",
       "      <td>...</td>\n",
       "      <td>...</td>\n",
       "      <td>...</td>\n",
       "      <td>...</td>\n",
       "      <td>...</td>\n",
       "      <td>...</td>\n",
       "      <td>...</td>\n",
       "      <td>...</td>\n",
       "      <td>...</td>\n",
       "      <td>...</td>\n",
       "      <td>...</td>\n",
       "      <td>...</td>\n",
       "      <td>...</td>\n",
       "      <td>...</td>\n",
       "      <td>...</td>\n",
       "      <td>...</td>\n",
       "      <td>...</td>\n",
       "      <td>...</td>\n",
       "      <td>...</td>\n",
       "      <td>...</td>\n",
       "      <td>...</td>\n",
       "    </tr>\n",
       "    <tr>\n",
       "      <th></th>\n",
       "      <td>...</td>\n",
       "      <td>...</td>\n",
       "      <td>...</td>\n",
       "      <td>...</td>\n",
       "      <td>...</td>\n",
       "      <td>...</td>\n",
       "      <td>...</td>\n",
       "      <td>...</td>\n",
       "      <td>...</td>\n",
       "      <td>...</td>\n",
       "      <td>...</td>\n",
       "      <td>...</td>\n",
       "      <td>...</td>\n",
       "      <td>...</td>\n",
       "      <td>...</td>\n",
       "      <td>...</td>\n",
       "      <td>...</td>\n",
       "      <td>...</td>\n",
       "      <td>...</td>\n",
       "      <td>...</td>\n",
       "      <td>...</td>\n",
       "      <td>...</td>\n",
       "      <td>...</td>\n",
       "      <td>...</td>\n",
       "      <td>...</td>\n",
       "      <td>...</td>\n",
       "      <td>...</td>\n",
       "      <td>...</td>\n",
       "      <td>...</td>\n",
       "    </tr>\n",
       "  </tbody>\n",
       "</table>\n",
       "</div>\n",
       "<div>Dask Name: read-csv, 125 tasks</div>"
      ],
      "text/plain": [
       "Dask DataFrame Structure:\n",
       "                   label feature-01 feature-02 feature-03 feature-04 feature-05 feature-06 feature-07 feature-08 feature-09 feature-10 feature-11 feature-12 feature-13 feature-14 feature-15 feature-16 feature-17 feature-18 feature-19 feature-20 feature-21 feature-22 feature-23 feature-24 feature-25 feature-26 feature-27 feature-28\n",
       "npartitions=125                                                                                                                                                                                                                                                                                                                             \n",
       "                 float64    float64    float64    float64    float64    float64    float64    float64    float64    float64    float64    float64    float64    float64    float64    float64    float64    float64    float64    float64    float64    float64    float64    float64    float64    float64    float64    float64    float64\n",
       "                     ...        ...        ...        ...        ...        ...        ...        ...        ...        ...        ...        ...        ...        ...        ...        ...        ...        ...        ...        ...        ...        ...        ...        ...        ...        ...        ...        ...        ...\n",
       "...                  ...        ...        ...        ...        ...        ...        ...        ...        ...        ...        ...        ...        ...        ...        ...        ...        ...        ...        ...        ...        ...        ...        ...        ...        ...        ...        ...        ...        ...\n",
       "                     ...        ...        ...        ...        ...        ...        ...        ...        ...        ...        ...        ...        ...        ...        ...        ...        ...        ...        ...        ...        ...        ...        ...        ...        ...        ...        ...        ...        ...\n",
       "                     ...        ...        ...        ...        ...        ...        ...        ...        ...        ...        ...        ...        ...        ...        ...        ...        ...        ...        ...        ...        ...        ...        ...        ...        ...        ...        ...        ...        ...\n",
       "Dask Name: read-csv, 125 tasks"
      ]
     },
     "execution_count": 7,
     "metadata": {},
     "output_type": "execute_result"
    }
   ],
   "source": [
    "dask_df"
   ]
  },
  {
   "cell_type": "markdown",
   "id": "fddfa6d0-5e09-4074-ac9f-ff85c4a7d653",
   "metadata": {},
   "source": [
    "On the other hand, Dask is especially good at determining how to read data in, once called to do so. Spefically, Dask has determined that these 11 million samples should be chunked into 125 partitions, with each partition containing about 88,000 samples each. Because none of the data has yet been loaded into memory, we see only the structure of the DataFrame, rather than the values. \n",
    "\n",
    "To see the values themselves we must force Dask to execute a computation. Calling `head()` on the DataFrame executes a `.compute()` operation under the hood which in turn loads the data from the first partiion and displays the top 5 values. "
   ]
  },
  {
   "cell_type": "code",
   "execution_count": 28,
   "id": "351d8a67-4555-4408-b3db-f445c9ecd081",
   "metadata": {},
   "outputs": [
    {
     "data": {
      "text/html": [
       "<div>\n",
       "<style scoped>\n",
       "    .dataframe tbody tr th:only-of-type {\n",
       "        vertical-align: middle;\n",
       "    }\n",
       "\n",
       "    .dataframe tbody tr th {\n",
       "        vertical-align: top;\n",
       "    }\n",
       "\n",
       "    .dataframe thead th {\n",
       "        text-align: right;\n",
       "    }\n",
       "</style>\n",
       "<table border=\"1\" class=\"dataframe\">\n",
       "  <thead>\n",
       "    <tr style=\"text-align: right;\">\n",
       "      <th></th>\n",
       "      <th>label</th>\n",
       "      <th>feature-01</th>\n",
       "      <th>feature-02</th>\n",
       "      <th>feature-03</th>\n",
       "      <th>feature-04</th>\n",
       "      <th>feature-05</th>\n",
       "      <th>feature-06</th>\n",
       "      <th>feature-07</th>\n",
       "      <th>feature-08</th>\n",
       "      <th>feature-09</th>\n",
       "      <th>...</th>\n",
       "      <th>feature-19</th>\n",
       "      <th>feature-20</th>\n",
       "      <th>feature-21</th>\n",
       "      <th>feature-22</th>\n",
       "      <th>feature-23</th>\n",
       "      <th>feature-24</th>\n",
       "      <th>feature-25</th>\n",
       "      <th>feature-26</th>\n",
       "      <th>feature-27</th>\n",
       "      <th>feature-28</th>\n",
       "    </tr>\n",
       "  </thead>\n",
       "  <tbody>\n",
       "    <tr>\n",
       "      <th>0</th>\n",
       "      <td>1.0</td>\n",
       "      <td>0.869293</td>\n",
       "      <td>-0.635082</td>\n",
       "      <td>0.225690</td>\n",
       "      <td>0.327470</td>\n",
       "      <td>-0.689993</td>\n",
       "      <td>0.754202</td>\n",
       "      <td>-0.248573</td>\n",
       "      <td>-1.092064</td>\n",
       "      <td>0.000000</td>\n",
       "      <td>...</td>\n",
       "      <td>-0.010455</td>\n",
       "      <td>-0.045767</td>\n",
       "      <td>3.101961</td>\n",
       "      <td>1.353760</td>\n",
       "      <td>0.979563</td>\n",
       "      <td>0.978076</td>\n",
       "      <td>0.920005</td>\n",
       "      <td>0.721657</td>\n",
       "      <td>0.988751</td>\n",
       "      <td>0.876678</td>\n",
       "    </tr>\n",
       "    <tr>\n",
       "      <th>1</th>\n",
       "      <td>1.0</td>\n",
       "      <td>0.907542</td>\n",
       "      <td>0.329147</td>\n",
       "      <td>0.359412</td>\n",
       "      <td>1.497970</td>\n",
       "      <td>-0.313010</td>\n",
       "      <td>1.095531</td>\n",
       "      <td>-0.557525</td>\n",
       "      <td>-1.588230</td>\n",
       "      <td>2.173076</td>\n",
       "      <td>...</td>\n",
       "      <td>-1.138930</td>\n",
       "      <td>-0.000819</td>\n",
       "      <td>0.000000</td>\n",
       "      <td>0.302220</td>\n",
       "      <td>0.833048</td>\n",
       "      <td>0.985700</td>\n",
       "      <td>0.978098</td>\n",
       "      <td>0.779732</td>\n",
       "      <td>0.992356</td>\n",
       "      <td>0.798343</td>\n",
       "    </tr>\n",
       "    <tr>\n",
       "      <th>2</th>\n",
       "      <td>1.0</td>\n",
       "      <td>0.798835</td>\n",
       "      <td>1.470639</td>\n",
       "      <td>-1.635975</td>\n",
       "      <td>0.453773</td>\n",
       "      <td>0.425629</td>\n",
       "      <td>1.104875</td>\n",
       "      <td>1.282322</td>\n",
       "      <td>1.381664</td>\n",
       "      <td>0.000000</td>\n",
       "      <td>...</td>\n",
       "      <td>1.128848</td>\n",
       "      <td>0.900461</td>\n",
       "      <td>0.000000</td>\n",
       "      <td>0.909753</td>\n",
       "      <td>1.108330</td>\n",
       "      <td>0.985692</td>\n",
       "      <td>0.951331</td>\n",
       "      <td>0.803252</td>\n",
       "      <td>0.865924</td>\n",
       "      <td>0.780118</td>\n",
       "    </tr>\n",
       "    <tr>\n",
       "      <th>3</th>\n",
       "      <td>0.0</td>\n",
       "      <td>1.344385</td>\n",
       "      <td>-0.876626</td>\n",
       "      <td>0.935913</td>\n",
       "      <td>1.992050</td>\n",
       "      <td>0.882454</td>\n",
       "      <td>1.786066</td>\n",
       "      <td>-1.646778</td>\n",
       "      <td>-0.942383</td>\n",
       "      <td>0.000000</td>\n",
       "      <td>...</td>\n",
       "      <td>-0.678379</td>\n",
       "      <td>-1.360356</td>\n",
       "      <td>0.000000</td>\n",
       "      <td>0.946652</td>\n",
       "      <td>1.028704</td>\n",
       "      <td>0.998656</td>\n",
       "      <td>0.728281</td>\n",
       "      <td>0.869200</td>\n",
       "      <td>1.026736</td>\n",
       "      <td>0.957904</td>\n",
       "    </tr>\n",
       "    <tr>\n",
       "      <th>4</th>\n",
       "      <td>1.0</td>\n",
       "      <td>1.105009</td>\n",
       "      <td>0.321356</td>\n",
       "      <td>1.522401</td>\n",
       "      <td>0.882808</td>\n",
       "      <td>-1.205349</td>\n",
       "      <td>0.681466</td>\n",
       "      <td>-1.070464</td>\n",
       "      <td>-0.921871</td>\n",
       "      <td>0.000000</td>\n",
       "      <td>...</td>\n",
       "      <td>-0.373566</td>\n",
       "      <td>0.113041</td>\n",
       "      <td>0.000000</td>\n",
       "      <td>0.755856</td>\n",
       "      <td>1.361057</td>\n",
       "      <td>0.986610</td>\n",
       "      <td>0.838085</td>\n",
       "      <td>1.133295</td>\n",
       "      <td>0.872245</td>\n",
       "      <td>0.808487</td>\n",
       "    </tr>\n",
       "  </tbody>\n",
       "</table>\n",
       "<p>5 rows × 29 columns</p>\n",
       "</div>"
      ],
      "text/plain": [
       "   label  feature-01  feature-02  feature-03  feature-04  feature-05  \\\n",
       "0    1.0    0.869293   -0.635082    0.225690    0.327470   -0.689993   \n",
       "1    1.0    0.907542    0.329147    0.359412    1.497970   -0.313010   \n",
       "2    1.0    0.798835    1.470639   -1.635975    0.453773    0.425629   \n",
       "3    0.0    1.344385   -0.876626    0.935913    1.992050    0.882454   \n",
       "4    1.0    1.105009    0.321356    1.522401    0.882808   -1.205349   \n",
       "\n",
       "   feature-06  feature-07  feature-08  feature-09  ...  feature-19  \\\n",
       "0    0.754202   -0.248573   -1.092064    0.000000  ...   -0.010455   \n",
       "1    1.095531   -0.557525   -1.588230    2.173076  ...   -1.138930   \n",
       "2    1.104875    1.282322    1.381664    0.000000  ...    1.128848   \n",
       "3    1.786066   -1.646778   -0.942383    0.000000  ...   -0.678379   \n",
       "4    0.681466   -1.070464   -0.921871    0.000000  ...   -0.373566   \n",
       "\n",
       "   feature-20  feature-21  feature-22  feature-23  feature-24  feature-25  \\\n",
       "0   -0.045767    3.101961    1.353760    0.979563    0.978076    0.920005   \n",
       "1   -0.000819    0.000000    0.302220    0.833048    0.985700    0.978098   \n",
       "2    0.900461    0.000000    0.909753    1.108330    0.985692    0.951331   \n",
       "3   -1.360356    0.000000    0.946652    1.028704    0.998656    0.728281   \n",
       "4    0.113041    0.000000    0.755856    1.361057    0.986610    0.838085   \n",
       "\n",
       "   feature-26  feature-27  feature-28  \n",
       "0    0.721657    0.988751    0.876678  \n",
       "1    0.779732    0.992356    0.798343  \n",
       "2    0.803252    0.865924    0.780118  \n",
       "3    0.869200    1.026736    0.957904  \n",
       "4    1.133295    0.872245    0.808487  \n",
       "\n",
       "[5 rows x 29 columns]"
      ]
     },
     "execution_count": 28,
     "metadata": {},
     "output_type": "execute_result"
    }
   ],
   "source": [
    "dask_df.head()"
   ]
  },
  {
   "cell_type": "markdown",
   "id": "b3c7b521-60c5-49d2-a89b-57ff3a28752c",
   "metadata": {},
   "source": [
    "### Train/Test split\n",
    "\n",
    "Next, we need to perform a train/test split. Dask ML can help with it's scikit-learn integration. "
   ]
  },
  {
   "cell_type": "code",
   "execution_count": 32,
   "id": "cc97c998-ce65-4bcb-8b8e-8d962ca30744",
   "metadata": {},
   "outputs": [],
   "source": [
    "#dask_df_sm = dask_df.partitions[0]"
   ]
  },
  {
   "cell_type": "code",
   "execution_count": 37,
   "id": "aea46e09-1c60-4230-8945-fa422a155055",
   "metadata": {},
   "outputs": [],
   "source": [
    "#y = dask_df_sm['label']\n",
    "#X = dask_df_sm[dask_df_sm.columns.difference(['label'])]"
   ]
  },
  {
   "cell_type": "code",
   "execution_count": 41,
   "id": "7e5eef16-5192-4588-a8af-e361e1ea2eb7",
   "metadata": {},
   "outputs": [],
   "source": [
    " X_train, X_test, y_train, y_test = dask_ml.model_selection.train_test_split(X, y, shuffle=True)"
   ]
  },
  {
   "cell_type": "markdown",
   "id": "b1f96d67-8cf1-46ba-b70f-43a71cb12448",
   "metadata": {},
   "source": [
    "The call below will execute the entire chain of commands we've strung together so far -- it will read in the first partition of data into a Dask Dataframe, split off the target column, perform a train/test split, and display those values below. "
   ]
  },
  {
   "cell_type": "code",
   "execution_count": 39,
   "id": "e1318112-56e1-4414-937a-ec5ebc653c05",
   "metadata": {},
   "outputs": [
    {
     "data": {
      "text/plain": [
       "77948    1.0\n",
       "79525    0.0\n",
       "80928    1.0\n",
       "4024     1.0\n",
       "82718    1.0\n",
       "        ... \n",
       "6607     1.0\n",
       "66917    0.0\n",
       "10456    1.0\n",
       "82585    1.0\n",
       "58665    1.0\n",
       "Name: label, Length: 78923, dtype: float64"
      ]
     },
     "execution_count": 39,
     "metadata": {},
     "output_type": "execute_result"
    }
   ],
   "source": [
    "y_train.compute()"
   ]
  },
  {
   "cell_type": "code",
   "execution_count": 40,
   "id": "740b0a46-d183-4a95-9cef-a3e1c2a21d9a",
   "metadata": {},
   "outputs": [
    {
     "data": {
      "text/plain": [
       "5635     0.0\n",
       "85983    0.0\n",
       "13269    0.0\n",
       "33459    1.0\n",
       "21220    0.0\n",
       "        ... \n",
       "32804    1.0\n",
       "13068    0.0\n",
       "2677     1.0\n",
       "45363    0.0\n",
       "6494     0.0\n",
       "Name: label, Length: 9077, dtype: float64"
      ]
     },
     "execution_count": 40,
     "metadata": {},
     "output_type": "execute_result"
    }
   ],
   "source": [
    "y_test.compute()"
   ]
  },
  {
   "cell_type": "markdown",
   "id": "10be1bfe-6ca0-426c-9abb-275c4948af95",
   "metadata": {},
   "source": [
    "Good -- these two subsets of the dataset look like they contain different pieces of information and we still haven't needed to load the entire dataset into memory! \n",
    "\n",
    "\n",
    " "
   ]
  },
  {
   "cell_type": "markdown",
   "id": "17fb48ce-e389-4a4c-a8cc-56627d48d039",
   "metadata": {},
   "source": [
    "## From Dask DataFrames to DMatrices\n",
    "\n",
    "This implmentation of XGBoost requires data in a specialized format called a DMatrix. This data object has been especially optimized to be memory efficient. \n",
    "\n",
    "Below, we perform an operation that converts a Dask DataFrame to a Dask DMatrix. Under the hood, this process may place one or more DataFrame partitions onto one or more DMatrix objects.  \n",
    "\n",
    "<img src=\"https://miro.medium.com/max/1400/0*AX-9WEYvaCI2h86I\">\n",
    "\n",
    "This takes a while because we are literally moving the data around now, and there's a lot of data to shuffle!"
   ]
  },
  {
   "cell_type": "code",
   "execution_count": 42,
   "id": "c1e07a43-9bd9-48f6-b4b9-be5a809eb5eb",
   "metadata": {},
   "outputs": [],
   "source": [
    "# X and y must be Dask dataframes or arrays\n",
    "\n",
    "dtrain = xgb.dask.DaskDMatrix(client, X_train, y_train)"
   ]
  },
  {
   "cell_type": "markdown",
   "id": "fd2ef1fd-a0ab-4600-bf82-dcaeac3e2170",
   "metadata": {},
   "source": [
    "## Train the model\n",
    "With the data in an ingestible format, it's time to train our XGBoost model. The training call is similar to non-distributed calls to XGBoost but with one key difference -- we now pass in the Dask Client, which is responsible for orchestrating the training across the Dask cluster. \n",
    "\n",
    "\n",
    "Link to more parameters for the model"
   ]
  },
  {
   "cell_type": "code",
   "execution_count": 86,
   "id": "40cca7ac-f01f-451b-a518-d15db19086f2",
   "metadata": {},
   "outputs": [],
   "source": [
    "output = xgb.dask.train(\n",
    "    client,\n",
    "    {\"verbosity\": 2, \"tree_method\": \"hist\", \"objective\": \"reg:squarederror\"},\n",
    "    dtrain,\n",
    "    num_boost_round=4,\n",
    "    evals=[(dtrain, \"train\")],\n",
    ")"
   ]
  },
  {
   "cell_type": "code",
   "execution_count": 87,
   "id": "d1e91307-090b-4131-bda1-51777be6d91b",
   "metadata": {},
   "outputs": [
    {
     "data": {
      "text/plain": [
       "{'booster': <xgboost.core.Booster at 0x7fcc1c2554d0>,\n",
       " 'history': {'train': OrderedDict([('rmse',\n",
       "                [0.475212, 0.461451, 0.451909, 0.445539])])}}"
      ]
     },
     "execution_count": 87,
     "metadata": {},
     "output_type": "execute_result"
    }
   ],
   "source": [
    "output"
   ]
  },
  {
   "cell_type": "markdown",
   "id": "40819276-d50f-4d8f-9d06-f2328cb411b1",
   "metadata": {},
   "source": [
    "This the model -- let's save the model for later use. \n"
   ]
  },
  {
   "cell_type": "code",
   "execution_count": null,
   "id": "f130345f-a87e-4300-be36-db05ea184c15",
   "metadata": {},
   "outputs": [],
   "source": [
    "# save the model to disk\n"
   ]
  },
  {
   "cell_type": "markdown",
   "id": "b8a91838-a5dc-4c04-8259-e065cdb80126",
   "metadata": {},
   "source": [
    "### Evaluation\n",
    "\n",
    "During the iterative process of ML modeling, we'll want to evaluate our model on the training and validations sets in order to ascertain our bias-variance trade-off.  Because our train set is quite large, this is still a good job for distributed cluster. \n",
    "\n",
    "\n",
    "We can score our model by passing our DaskDMatrix object to the xgb.dask.predict method. The result is another Dask Array so we must use `.compute()` to retrieve a non-distributed data object (e.g., a Numpy array)"
   ]
  },
  {
   "cell_type": "code",
   "execution_count": 2,
   "id": "8ebdf58b-1cf2-42a6-b7c7-f3de6e9438ef",
   "metadata": {},
   "outputs": [],
   "source": [
    "# read the model back in"
   ]
  },
  {
   "cell_type": "code",
   "execution_count": 88,
   "id": "df68eaa6-734b-44a4-a063-a230e5207ad4",
   "metadata": {},
   "outputs": [],
   "source": [
    "prediction = xgb.dask.predict(client, output, dtrain)"
   ]
  },
  {
   "cell_type": "code",
   "execution_count": 89,
   "id": "bcdd9337-dc10-4060-8ffa-0cb9d31eaf68",
   "metadata": {},
   "outputs": [],
   "source": [
    "pred = prediction.compute()"
   ]
  },
  {
   "cell_type": "code",
   "execution_count": 99,
   "id": "9ae1e6e0-31d6-4243-b54d-a8f8b17de8b6",
   "metadata": {},
   "outputs": [
    {
     "data": {
      "text/plain": [
       "88000"
      ]
     },
     "execution_count": 99,
     "metadata": {},
     "output_type": "execute_result"
    }
   ],
   "source": [
    "labels = [round(t) for t in pred]\n",
    "len(labels)"
   ]
  },
  {
   "cell_type": "code",
   "execution_count": 92,
   "id": "02dd8c65-f9d8-4c95-9d90-3e33a03fa7d3",
   "metadata": {},
   "outputs": [],
   "source": [
    "y_pred = y_train.compute()"
   ]
  },
  {
   "cell_type": "code",
   "execution_count": 101,
   "id": "6c341093-6890-4899-b673-f931f91a4a8a",
   "metadata": {},
   "outputs": [
    {
     "data": {
      "text/plain": [
       "0.7045340909090909"
      ]
     },
     "execution_count": 101,
     "metadata": {},
     "output_type": "execute_result"
    }
   ],
   "source": [
    "sum(labels == y_pred)/len(labels)"
   ]
  },
  {
   "cell_type": "markdown",
   "id": "d49ef450-37ac-41f3-be8a-bc550dd7a0a1",
   "metadata": {},
   "source": [
    "### Validation\n",
    "\n",
    "Not Implemented yet."
   ]
  },
  {
   "cell_type": "markdown",
   "id": "067babea-c977-471b-857e-43cdcdedbf29",
   "metadata": {},
   "source": [
    "## Inference\n",
    "\n",
    "Once we have an evaluated model that we're happy with, we can use it for inference like we would any model -- with or without distributed computational resources. \n",
    "\n",
    "Not implemented yet"
   ]
  },
  {
   "cell_type": "code",
   "execution_count": 3,
   "id": "e2283f02-c077-4c1d-8b3f-652880a8303e",
   "metadata": {},
   "outputs": [],
   "source": [
    "# show how you can call the model without using Dask arrays, etc. "
   ]
  },
  {
   "cell_type": "markdown",
   "id": "a1666727-6ac5-42ae-baa7-3d81ed01dd09",
   "metadata": {},
   "source": [
    "## Alternative: Scikit-Learn API \n",
    "\n",
    "show the same steps above but with the other api"
   ]
  },
  {
   "cell_type": "markdown",
   "id": "f02fe4d2-4d5f-44e0-b521-60ab384d96e0",
   "metadata": {},
   "source": [
    "## Shut down workers"
   ]
  },
  {
   "cell_type": "code",
   "execution_count": 106,
   "id": "98525ae0-943d-49f4-9029-2013dce5496c",
   "metadata": {},
   "outputs": [
    {
     "data": {
      "text/plain": [
       "[<Response [204]>, <Response [204]>, <Response [204]>, <Response [204]>]"
      ]
     },
     "execution_count": 106,
     "metadata": {},
     "output_type": "execute_result"
    },
    {
     "name": "stderr",
     "output_type": "stream",
     "text": [
      "distributed.client - ERROR - Failed to reconnect to scheduler after 30.00 seconds, closing client\n"
     ]
    }
   ],
   "source": [
    "cdsw.stop_workers(*[worker[\"id\"] for worker in dask_workers + dask_scheduler])"
   ]
  },
  {
   "cell_type": "code",
   "execution_count": null,
   "id": "e143251e-fa71-4fd9-8e79-da17621e3396",
   "metadata": {},
   "outputs": [],
   "source": []
  }
 ],
 "metadata": {
  "kernelspec": {
   "display_name": "Python 3",
   "language": "python",
   "name": "python3"
  },
  "language_info": {
   "codemirror_mode": {
    "name": "ipython",
    "version": 3
   },
   "file_extension": ".py",
   "mimetype": "text/x-python",
   "name": "python",
   "nbconvert_exporter": "python",
   "pygments_lexer": "ipython3",
   "version": "3.6.14"
  }
 },
 "nbformat": 4,
 "nbformat_minor": 5
}
