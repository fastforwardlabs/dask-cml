{
 "cells": [
  {
   "cell_type": "markdown",
   "id": "f56d13dd-2a37-4164-8898-2f8fdee8a460",
   "metadata": {
    "tags": []
   },
   "source": [
    "# Distributed XGBoost with Dask on CML\n",
    "\n",
    "In this notebook we'll demonstrate a simple application of detecting credit card fraud by training a distributed XGBoost model using Dask, a library for scaling and parallelizing Python applications. Dask allows easy management of distributed workers and excels at handling large distributed data science workflows. The [XGBoost](https://github.com/dmlc/xgboost) package now includes Dask integration through two APIs: a functional interface (that we'll demonstrate here) and one that is modeled after Scikit-Learn. \n",
    "\n",
    "\n",
    "### Distributed computing\n",
    "It's important to understand what we mean by \"distributed\" computing, since there are several paradigms for scaling machine learning workflows. \n",
    "\n",
    "**Memory-constrained.**\n",
    "In this scenario the data is larger than can comfortably fit into memory and must instead be distributed across the nodes of your cluster. This necessitates distributing your ML model across those same nodes, a feature of ensemble models like XGBoost. This is the type of distributed computing we demonstrate in this notebook. \n",
    "\n",
    "**Compute-constrained.** \n",
    "In this scenario, the data fits in memory but the model size or training complexity is such that execution would simply take too long to complete in a reasonable time. This can happen, for example, when tuning a large model's hyperparameters or when performing cross validation. One way to handle this is to parallelize the computation, e.g., use each node in the cluster to train a separate set of hyperparameters for a given model. \n",
    "\n",
    "\n",
    "We do *not* perform this kind of distributed computing because, in our scenario, all the nodes in the cluster are already being used to handle the distributed data load! Instead, we perforrm hyperparameter tuning _sequentially_. We demonstrate how we roll our own quick and dirty hyperparameter tuning loop to handle this. \n",
    " \n",
    "\n",
    "### A note on the dataset\n",
    "We'll work with a small sample of the credit card fraud dataset curated by the machine learning group at Université Libre de Bruxelles. The same group have a handbook detailing the application of machine learning for fraud detection, which provides considerably more depth than we do here. Creating a realistic fraud detection system is far too mighty a task for a single humble notebook, and so the dataset here serves only as an example for the purpose of demonstrating the technologies. Namely: parallelized training of XGBoost on a Dask cluster on CML. Throughout the process we'll also demonstrate how to use other supporting Dask libraries for a nearly end-to-end ML sa;laksfa;lskdfja;lskdfja\n",
    "\n",
    "\n",
    "Code examples drawn in part from the [documentation](https://xgboost.readthedocs.io/en/stable/tutorials/dask.html) and [this blog post](https://medium.com/rapids-ai/a-new-official-dask-api-for-xgboost-e8b10f3d1eb7) published by RAPIDS AI, both excellent sources of information for further details. "
   ]
  },
  {
   "cell_type": "code",
   "execution_count": 1,
   "id": "72a60325-13e5-470a-837f-1526fd92ca0a",
   "metadata": {},
   "outputs": [],
   "source": [
    "import cdsw\n",
    "import seaborn as sns\n",
    "\n",
    "import xgboost as xgb\n",
    "\n",
    "from dask import dataframe as dd\n",
    "from dask.distributed import Client\n",
    "import dask_ml\n",
    "\n",
    "from scipy.stats import uniform, loguniform, randint\n",
    "from sklearn.dummy import DummyClassifier\n",
    "from sklearn.linear_model import LogisticRegression\n",
    "from sklearn.metrics import auc, precision_recall_curve, precision_score, recall_score\n",
    "from sklearn.model_selection import RandomizedSearchCV, ParameterSampler # Use ParameterGrid for grid search\n",
    "from sklearn.preprocessing import StandardScaler\n",
    "from sklearn.pipeline import Pipeline\n",
    "\n",
    "import pandas as pd\n",
    "from tqdm import tqdm\n",
    "\n",
    "from utils.dask_utils import run_dask_cluster"
   ]
  },
  {
   "cell_type": "markdown",
   "id": "4f307386-57a7-4562-bc48-92432173ae9b",
   "metadata": {},
   "source": [
    "## Load Data\n",
    "\n",
    "The data comes somewhat pre-engineered reduced, having gone through (at least) PCA. This was done in the name of privacy preservation, but also means the data is in reasonable shape to put directly into a supervised learning pipeline.\n",
    "\n",
    "We begin by loading the data into a Dask DataFrame, which has much of the same functionality of a traditional Pandas Dataframe. Recall from the Dask Intro notebook that Dask performs _lazy_ execution so this DataFrame is not yet populated with values until explicit execution."
   ]
  },
  {
   "cell_type": "code",
   "execution_count": 2,
   "id": "7bf0ae4f-acbb-473e-b909-f3de6998f6be",
   "metadata": {},
   "outputs": [],
   "source": [
    "dask_df = dd.read_csv(\"data/creditcard.csv\", assume_missing=True)"
   ]
  },
  {
   "cell_type": "code",
   "execution_count": 3,
   "id": "b58a259e-4c7e-4118-a520-9dbe6682623b",
   "metadata": {},
   "outputs": [
    {
     "data": {
      "text/html": [
       "<div><strong>Dask DataFrame Structure:</strong></div>\n",
       "<div>\n",
       "<style scoped>\n",
       "    .dataframe tbody tr th:only-of-type {\n",
       "        vertical-align: middle;\n",
       "    }\n",
       "\n",
       "    .dataframe tbody tr th {\n",
       "        vertical-align: top;\n",
       "    }\n",
       "\n",
       "    .dataframe thead th {\n",
       "        text-align: right;\n",
       "    }\n",
       "</style>\n",
       "<table border=\"1\" class=\"dataframe\">\n",
       "  <thead>\n",
       "    <tr style=\"text-align: right;\">\n",
       "      <th></th>\n",
       "      <th>Time</th>\n",
       "      <th>V1</th>\n",
       "      <th>V2</th>\n",
       "      <th>V3</th>\n",
       "      <th>V4</th>\n",
       "      <th>V5</th>\n",
       "      <th>V6</th>\n",
       "      <th>V7</th>\n",
       "      <th>V8</th>\n",
       "      <th>V9</th>\n",
       "      <th>V10</th>\n",
       "      <th>V11</th>\n",
       "      <th>V12</th>\n",
       "      <th>V13</th>\n",
       "      <th>V14</th>\n",
       "      <th>V15</th>\n",
       "      <th>V16</th>\n",
       "      <th>V17</th>\n",
       "      <th>V18</th>\n",
       "      <th>V19</th>\n",
       "      <th>V20</th>\n",
       "      <th>V21</th>\n",
       "      <th>V22</th>\n",
       "      <th>V23</th>\n",
       "      <th>V24</th>\n",
       "      <th>V25</th>\n",
       "      <th>V26</th>\n",
       "      <th>V27</th>\n",
       "      <th>V28</th>\n",
       "      <th>Amount</th>\n",
       "      <th>Class</th>\n",
       "    </tr>\n",
       "    <tr>\n",
       "      <th>npartitions=2</th>\n",
       "      <th></th>\n",
       "      <th></th>\n",
       "      <th></th>\n",
       "      <th></th>\n",
       "      <th></th>\n",
       "      <th></th>\n",
       "      <th></th>\n",
       "      <th></th>\n",
       "      <th></th>\n",
       "      <th></th>\n",
       "      <th></th>\n",
       "      <th></th>\n",
       "      <th></th>\n",
       "      <th></th>\n",
       "      <th></th>\n",
       "      <th></th>\n",
       "      <th></th>\n",
       "      <th></th>\n",
       "      <th></th>\n",
       "      <th></th>\n",
       "      <th></th>\n",
       "      <th></th>\n",
       "      <th></th>\n",
       "      <th></th>\n",
       "      <th></th>\n",
       "      <th></th>\n",
       "      <th></th>\n",
       "      <th></th>\n",
       "      <th></th>\n",
       "      <th></th>\n",
       "      <th></th>\n",
       "    </tr>\n",
       "  </thead>\n",
       "  <tbody>\n",
       "    <tr>\n",
       "      <th></th>\n",
       "      <td>float64</td>\n",
       "      <td>float64</td>\n",
       "      <td>float64</td>\n",
       "      <td>float64</td>\n",
       "      <td>float64</td>\n",
       "      <td>float64</td>\n",
       "      <td>float64</td>\n",
       "      <td>float64</td>\n",
       "      <td>float64</td>\n",
       "      <td>float64</td>\n",
       "      <td>float64</td>\n",
       "      <td>float64</td>\n",
       "      <td>float64</td>\n",
       "      <td>float64</td>\n",
       "      <td>float64</td>\n",
       "      <td>float64</td>\n",
       "      <td>float64</td>\n",
       "      <td>float64</td>\n",
       "      <td>float64</td>\n",
       "      <td>float64</td>\n",
       "      <td>float64</td>\n",
       "      <td>float64</td>\n",
       "      <td>float64</td>\n",
       "      <td>float64</td>\n",
       "      <td>float64</td>\n",
       "      <td>float64</td>\n",
       "      <td>float64</td>\n",
       "      <td>float64</td>\n",
       "      <td>float64</td>\n",
       "      <td>float64</td>\n",
       "      <td>float64</td>\n",
       "    </tr>\n",
       "    <tr>\n",
       "      <th></th>\n",
       "      <td>...</td>\n",
       "      <td>...</td>\n",
       "      <td>...</td>\n",
       "      <td>...</td>\n",
       "      <td>...</td>\n",
       "      <td>...</td>\n",
       "      <td>...</td>\n",
       "      <td>...</td>\n",
       "      <td>...</td>\n",
       "      <td>...</td>\n",
       "      <td>...</td>\n",
       "      <td>...</td>\n",
       "      <td>...</td>\n",
       "      <td>...</td>\n",
       "      <td>...</td>\n",
       "      <td>...</td>\n",
       "      <td>...</td>\n",
       "      <td>...</td>\n",
       "      <td>...</td>\n",
       "      <td>...</td>\n",
       "      <td>...</td>\n",
       "      <td>...</td>\n",
       "      <td>...</td>\n",
       "      <td>...</td>\n",
       "      <td>...</td>\n",
       "      <td>...</td>\n",
       "      <td>...</td>\n",
       "      <td>...</td>\n",
       "      <td>...</td>\n",
       "      <td>...</td>\n",
       "      <td>...</td>\n",
       "    </tr>\n",
       "    <tr>\n",
       "      <th></th>\n",
       "      <td>...</td>\n",
       "      <td>...</td>\n",
       "      <td>...</td>\n",
       "      <td>...</td>\n",
       "      <td>...</td>\n",
       "      <td>...</td>\n",
       "      <td>...</td>\n",
       "      <td>...</td>\n",
       "      <td>...</td>\n",
       "      <td>...</td>\n",
       "      <td>...</td>\n",
       "      <td>...</td>\n",
       "      <td>...</td>\n",
       "      <td>...</td>\n",
       "      <td>...</td>\n",
       "      <td>...</td>\n",
       "      <td>...</td>\n",
       "      <td>...</td>\n",
       "      <td>...</td>\n",
       "      <td>...</td>\n",
       "      <td>...</td>\n",
       "      <td>...</td>\n",
       "      <td>...</td>\n",
       "      <td>...</td>\n",
       "      <td>...</td>\n",
       "      <td>...</td>\n",
       "      <td>...</td>\n",
       "      <td>...</td>\n",
       "      <td>...</td>\n",
       "      <td>...</td>\n",
       "      <td>...</td>\n",
       "    </tr>\n",
       "  </tbody>\n",
       "</table>\n",
       "</div>\n",
       "<div>Dask Name: read-csv, 2 tasks</div>"
      ],
      "text/plain": [
       "Dask DataFrame Structure:\n",
       "                  Time       V1       V2       V3       V4       V5       V6       V7       V8       V9      V10      V11      V12      V13      V14      V15      V16      V17      V18      V19      V20      V21      V22      V23      V24      V25      V26      V27      V28   Amount    Class\n",
       "npartitions=2                                                                                                                                                                                                                                                                                       \n",
       "               float64  float64  float64  float64  float64  float64  float64  float64  float64  float64  float64  float64  float64  float64  float64  float64  float64  float64  float64  float64  float64  float64  float64  float64  float64  float64  float64  float64  float64  float64  float64\n",
       "                   ...      ...      ...      ...      ...      ...      ...      ...      ...      ...      ...      ...      ...      ...      ...      ...      ...      ...      ...      ...      ...      ...      ...      ...      ...      ...      ...      ...      ...      ...      ...\n",
       "                   ...      ...      ...      ...      ...      ...      ...      ...      ...      ...      ...      ...      ...      ...      ...      ...      ...      ...      ...      ...      ...      ...      ...      ...      ...      ...      ...      ...      ...      ...      ...\n",
       "Dask Name: read-csv, 2 tasks"
      ]
     },
     "execution_count": 3,
     "metadata": {},
     "output_type": "execute_result"
    }
   ],
   "source": [
    "dask_df"
   ]
  },
  {
   "cell_type": "code",
   "execution_count": 4,
   "id": "351d8a67-4555-4408-b3db-f445c9ecd081",
   "metadata": {},
   "outputs": [
    {
     "data": {
      "text/html": [
       "<div>\n",
       "<style scoped>\n",
       "    .dataframe tbody tr th:only-of-type {\n",
       "        vertical-align: middle;\n",
       "    }\n",
       "\n",
       "    .dataframe tbody tr th {\n",
       "        vertical-align: top;\n",
       "    }\n",
       "\n",
       "    .dataframe thead th {\n",
       "        text-align: right;\n",
       "    }\n",
       "</style>\n",
       "<table border=\"1\" class=\"dataframe\">\n",
       "  <thead>\n",
       "    <tr style=\"text-align: right;\">\n",
       "      <th></th>\n",
       "      <th>Time</th>\n",
       "      <th>V1</th>\n",
       "      <th>V2</th>\n",
       "      <th>V3</th>\n",
       "      <th>V4</th>\n",
       "      <th>V5</th>\n",
       "      <th>V6</th>\n",
       "      <th>V7</th>\n",
       "      <th>V8</th>\n",
       "      <th>V9</th>\n",
       "      <th>...</th>\n",
       "      <th>V21</th>\n",
       "      <th>V22</th>\n",
       "      <th>V23</th>\n",
       "      <th>V24</th>\n",
       "      <th>V25</th>\n",
       "      <th>V26</th>\n",
       "      <th>V27</th>\n",
       "      <th>V28</th>\n",
       "      <th>Amount</th>\n",
       "      <th>Class</th>\n",
       "    </tr>\n",
       "  </thead>\n",
       "  <tbody>\n",
       "    <tr>\n",
       "      <th>0</th>\n",
       "      <td>0.0</td>\n",
       "      <td>-1.359807</td>\n",
       "      <td>-0.072781</td>\n",
       "      <td>2.536347</td>\n",
       "      <td>1.378155</td>\n",
       "      <td>-0.338321</td>\n",
       "      <td>0.462388</td>\n",
       "      <td>0.239599</td>\n",
       "      <td>0.098698</td>\n",
       "      <td>0.363787</td>\n",
       "      <td>...</td>\n",
       "      <td>-0.018307</td>\n",
       "      <td>0.277838</td>\n",
       "      <td>-0.110474</td>\n",
       "      <td>0.066928</td>\n",
       "      <td>0.128539</td>\n",
       "      <td>-0.189115</td>\n",
       "      <td>0.133558</td>\n",
       "      <td>-0.021053</td>\n",
       "      <td>149.62</td>\n",
       "      <td>0.0</td>\n",
       "    </tr>\n",
       "    <tr>\n",
       "      <th>1</th>\n",
       "      <td>0.0</td>\n",
       "      <td>1.191857</td>\n",
       "      <td>0.266151</td>\n",
       "      <td>0.166480</td>\n",
       "      <td>0.448154</td>\n",
       "      <td>0.060018</td>\n",
       "      <td>-0.082361</td>\n",
       "      <td>-0.078803</td>\n",
       "      <td>0.085102</td>\n",
       "      <td>-0.255425</td>\n",
       "      <td>...</td>\n",
       "      <td>-0.225775</td>\n",
       "      <td>-0.638672</td>\n",
       "      <td>0.101288</td>\n",
       "      <td>-0.339846</td>\n",
       "      <td>0.167170</td>\n",
       "      <td>0.125895</td>\n",
       "      <td>-0.008983</td>\n",
       "      <td>0.014724</td>\n",
       "      <td>2.69</td>\n",
       "      <td>0.0</td>\n",
       "    </tr>\n",
       "    <tr>\n",
       "      <th>2</th>\n",
       "      <td>1.0</td>\n",
       "      <td>-1.358354</td>\n",
       "      <td>-1.340163</td>\n",
       "      <td>1.773209</td>\n",
       "      <td>0.379780</td>\n",
       "      <td>-0.503198</td>\n",
       "      <td>1.800499</td>\n",
       "      <td>0.791461</td>\n",
       "      <td>0.247676</td>\n",
       "      <td>-1.514654</td>\n",
       "      <td>...</td>\n",
       "      <td>0.247998</td>\n",
       "      <td>0.771679</td>\n",
       "      <td>0.909412</td>\n",
       "      <td>-0.689281</td>\n",
       "      <td>-0.327642</td>\n",
       "      <td>-0.139097</td>\n",
       "      <td>-0.055353</td>\n",
       "      <td>-0.059752</td>\n",
       "      <td>378.66</td>\n",
       "      <td>0.0</td>\n",
       "    </tr>\n",
       "    <tr>\n",
       "      <th>3</th>\n",
       "      <td>1.0</td>\n",
       "      <td>-0.966272</td>\n",
       "      <td>-0.185226</td>\n",
       "      <td>1.792993</td>\n",
       "      <td>-0.863291</td>\n",
       "      <td>-0.010309</td>\n",
       "      <td>1.247203</td>\n",
       "      <td>0.237609</td>\n",
       "      <td>0.377436</td>\n",
       "      <td>-1.387024</td>\n",
       "      <td>...</td>\n",
       "      <td>-0.108300</td>\n",
       "      <td>0.005274</td>\n",
       "      <td>-0.190321</td>\n",
       "      <td>-1.175575</td>\n",
       "      <td>0.647376</td>\n",
       "      <td>-0.221929</td>\n",
       "      <td>0.062723</td>\n",
       "      <td>0.061458</td>\n",
       "      <td>123.50</td>\n",
       "      <td>0.0</td>\n",
       "    </tr>\n",
       "    <tr>\n",
       "      <th>4</th>\n",
       "      <td>2.0</td>\n",
       "      <td>-1.158233</td>\n",
       "      <td>0.877737</td>\n",
       "      <td>1.548718</td>\n",
       "      <td>0.403034</td>\n",
       "      <td>-0.407193</td>\n",
       "      <td>0.095921</td>\n",
       "      <td>0.592941</td>\n",
       "      <td>-0.270533</td>\n",
       "      <td>0.817739</td>\n",
       "      <td>...</td>\n",
       "      <td>-0.009431</td>\n",
       "      <td>0.798278</td>\n",
       "      <td>-0.137458</td>\n",
       "      <td>0.141267</td>\n",
       "      <td>-0.206010</td>\n",
       "      <td>0.502292</td>\n",
       "      <td>0.219422</td>\n",
       "      <td>0.215153</td>\n",
       "      <td>69.99</td>\n",
       "      <td>0.0</td>\n",
       "    </tr>\n",
       "  </tbody>\n",
       "</table>\n",
       "<p>5 rows × 31 columns</p>\n",
       "</div>"
      ],
      "text/plain": [
       "   Time        V1        V2        V3        V4        V5        V6        V7  \\\n",
       "0   0.0 -1.359807 -0.072781  2.536347  1.378155 -0.338321  0.462388  0.239599   \n",
       "1   0.0  1.191857  0.266151  0.166480  0.448154  0.060018 -0.082361 -0.078803   \n",
       "2   1.0 -1.358354 -1.340163  1.773209  0.379780 -0.503198  1.800499  0.791461   \n",
       "3   1.0 -0.966272 -0.185226  1.792993 -0.863291 -0.010309  1.247203  0.237609   \n",
       "4   2.0 -1.158233  0.877737  1.548718  0.403034 -0.407193  0.095921  0.592941   \n",
       "\n",
       "         V8        V9  ...       V21       V22       V23       V24       V25  \\\n",
       "0  0.098698  0.363787  ... -0.018307  0.277838 -0.110474  0.066928  0.128539   \n",
       "1  0.085102 -0.255425  ... -0.225775 -0.638672  0.101288 -0.339846  0.167170   \n",
       "2  0.247676 -1.514654  ...  0.247998  0.771679  0.909412 -0.689281 -0.327642   \n",
       "3  0.377436 -1.387024  ... -0.108300  0.005274 -0.190321 -1.175575  0.647376   \n",
       "4 -0.270533  0.817739  ... -0.009431  0.798278 -0.137458  0.141267 -0.206010   \n",
       "\n",
       "        V26       V27       V28  Amount  Class  \n",
       "0 -0.189115  0.133558 -0.021053  149.62    0.0  \n",
       "1  0.125895 -0.008983  0.014724    2.69    0.0  \n",
       "2 -0.139097 -0.055353 -0.059752  378.66    0.0  \n",
       "3 -0.221929  0.062723  0.061458  123.50    0.0  \n",
       "4  0.502292  0.219422  0.215153   69.99    0.0  \n",
       "\n",
       "[5 rows x 31 columns]"
      ]
     },
     "execution_count": 4,
     "metadata": {},
     "output_type": "execute_result"
    }
   ],
   "source": [
    "dask_df.head()"
   ]
  },
  {
   "cell_type": "markdown",
   "id": "aeb6ecc7-97ea-4667-b154-8a28d6f5d203",
   "metadata": {},
   "source": [
    "## Feature engineering\n",
    "\n",
    "The task we perform here is a \"point-like\" prediction of fraud, in the sense that transactions are not linked by any id, so we can do no analysis of events from the same card over time. As such, each incoming datapoint will be subject to a prediction independent of the others. Time could be used as a feature, but only in the naive sense (time of day, etc). Neglecting time seems appropriate for this point-like prediction task."
   ]
  },
  {
   "cell_type": "code",
   "execution_count": 3,
   "id": "5f0da7c3-d11d-409b-9066-0bea81200188",
   "metadata": {},
   "outputs": [],
   "source": [
    "dask_df = dask_df.drop(columns=['Time'])"
   ]
  },
  {
   "cell_type": "markdown",
   "id": "a786622a-ed4b-4b84-9a18-855114ecd1c7",
   "metadata": {},
   "source": [
    "The target class is heavily imbalanced -- this is expected since (hopefully) fraudulent transactions are a rare occurance!"
   ]
  },
  {
   "cell_type": "code",
   "execution_count": 8,
   "id": "e39da14a-863a-4d7d-8ce1-27a4f019a344",
   "metadata": {},
   "outputs": [
    {
     "name": "stdout",
     "output_type": "stream",
     "text": [
      "There are 492 identified cases of fraud in 284807 total cases. \n",
      "        That's only 0.17%!\n"
     ]
    }
   ],
   "source": [
    "class_counts = dask_df.Class.value_counts().compute()\n",
    "\n",
    "print(f\"\"\"There are {class_counts[1]} identified cases of fraud in {class_counts.sum()} total cases. \n",
    "        That's only {100 * class_counts[1]/class_counts.sum():.2f}%!\"\"\")"
   ]
  },
  {
   "cell_type": "markdown",
   "id": "0c3845f5-b132-4274-a797-5f100df660bf",
   "metadata": {},
   "source": [
    "Maybe some features will be well correlated with the target. Let's do a visual spot check. Because there's such a huge class imbalance, we randomly downsample the dominant class to match the prevalence of the minority class."
   ]
  },
  {
   "cell_type": "code",
   "execution_count": 4,
   "id": "5e247f04-e7ad-40df-8c82-5683798092ae",
   "metadata": {},
   "outputs": [],
   "source": [
    "sample_df = dd.concat([dask_df[dask_df.Class == 1], dask_df[dask_df.Class == 0].sample(frac=0.0017)]).compute().reset_index()"
   ]
  },
  {
   "cell_type": "markdown",
   "id": "cc82c5d3-76c3-453c-ba11-2f102ebf3eee",
   "metadata": {},
   "source": [
    "Now that we've created a small sample, we can convert this to a standard pandas dataframe for use in our plotting function. "
   ]
  },
  {
   "cell_type": "code",
   "execution_count": 9,
   "id": "662a1b46-d49b-4e50-bcff-024d180d5d2f",
   "metadata": {},
   "outputs": [],
   "source": [
    "melted_cc = (\n",
    "    sample_df\n",
    "    .drop(\"Amount\", axis=\"columns\")\n",
    "    .melt(id_vars=[\"Class\"],\n",
    "          value_vars=[c for c in dask_df.columns if c not in [\"Class\", \"Amount\"]])\n",
    ")"
   ]
  },
  {
   "cell_type": "code",
   "execution_count": 10,
   "id": "0620e60c-e239-4220-9f3c-49cc5b3bd659",
   "metadata": {},
   "outputs": [
    {
     "data": {
      "text/plain": [
       "<seaborn.axisgrid.FacetGrid at 0x7f3905fb12e0>"
      ]
     },
     "execution_count": 10,
     "metadata": {},
     "output_type": "execute_result"
    },
    {
     "data": {
      "image/png": "[encoded data removed]",
      "text/plain": [
       "<Figure size 864x1512 with 28 Axes>"
      ]
     },
     "metadata": {
      "needs_background": "light"
     },
     "output_type": "display_data"
    }
   ],
   "source": [
    "grid = sns.FacetGrid(melted_cc, col=\"variable\", col_wrap=4)\n",
    "grid.map_dataframe(sns.histplot, x=\"value\", hue=\"Class\", element=\"step\")\n",
    "grid.set(xlim=(-10,10))"
   ]
  },
  {
   "cell_type": "markdown",
   "id": "d1455258-5839-47b3-9829-4755eb46b47c",
   "metadata": {},
   "source": [
    "It looks like there's some reasonable separation between fraudulent and non-fradulent transactions via some of the PCA feature distributions. This signals that there's a good chance we can learn to discriminate fraudulent transactions on the basis of these features. (Even those distributions that overlap extremely well may be useful in combination with other features). Keep in mind that that downsampling non-fraudulent transactions so severely introduces a lot of statistical noise - run the sampling repeatedly to draw new samples.\n",
    "\n",
    "The scale of the `Amount` variable differs from the PCA variables above, so we plot it separately."
   ]
  },
  {
   "cell_type": "code",
   "execution_count": 11,
   "id": "da221fe8-dc18-4875-9d11-a621f08d02af",
   "metadata": {},
   "outputs": [
    {
     "data": {
      "text/plain": [
       "<AxesSubplot:xlabel='Amount', ylabel='Count'>"
      ]
     },
     "execution_count": 11,
     "metadata": {},
     "output_type": "execute_result"
    },
    {
     "data": {
      "image/png": "[encoded data removed]",
      "text/plain": [
       "<Figure size 432x288 with 1 Axes>"
      ]
     },
     "metadata": {
      "needs_background": "light"
     },
     "output_type": "display_data"
    }
   ],
   "source": [
    "sns.histplot(\n",
    "    sample_df,\n",
    "    x=\"Amount\", hue=\"Class\", element=\"step\", bins=100\n",
    ")"
   ]
  },
  {
   "cell_type": "markdown",
   "id": "97363737-8b82-409a-a62d-63927c3bed12",
   "metadata": {},
   "source": [
    "We see that the features are not perfect standard normal distributions, but are all close to mean zero and standard deviation one, excepting the transaction amount. Taking all features `V1` through `V28` and `Amount` as our feature matrix, we can apply standard scaling to all (it will not harm those already scaled, and performance is not a concern)."
   ]
  },
  {
   "cell_type": "markdown",
   "id": "b3c7b521-60c5-49d2-a89b-57ff3a28752c",
   "metadata": {},
   "source": [
    "## Train/dev/validation split\n",
    "\n",
    "Before we compute anything, even baselines, let's establish a train test split. We'll do 70% train, 20% dev, and 10% validation. "
   ]
  },
  {
   "cell_type": "code",
   "execution_count": 4,
   "id": "aea46e09-1c60-4230-8945-fa422a155055",
   "metadata": {},
   "outputs": [],
   "source": [
    "# Class is our target variable so we separate this column from the dask dataframe\n",
    "y = dask_df['Class']\n",
    "X = dask_df[dask_df.columns.difference(['Class'])]"
   ]
  },
  {
   "cell_type": "code",
   "execution_count": 5,
   "id": "7e5eef16-5192-4588-a8af-e361e1ea2eb7",
   "metadata": {},
   "outputs": [],
   "source": [
    "X_train, X_dev, y_train, y_dev = dask_ml.model_selection.train_test_split(X, y, test_size=0.3, shuffle=True)\n",
    "X_dev, X_val, y_dev, y_val = dask_ml.model_selection.train_test_split(X_dev, y_dev, test_size=0.333, shuffle=True)"
   ]
  },
  {
   "cell_type": "markdown",
   "id": "90ce5bd3-aa43-4a23-a498-c006bdb6dc63",
   "metadata": {},
   "source": [
    "Let's verify that our splits contain class imbalances that are approximately proportionally to our original dataset"
   ]
  },
  {
   "cell_type": "code",
   "execution_count": 7,
   "id": "6be0bbde-9cbf-492a-9e6e-641b6bd5a5a8",
   "metadata": {},
   "outputs": [
    {
     "name": "stdout",
     "output_type": "stream",
     "text": [
      "0.0017783046828689982\n",
      "0.0016253058371198882\n",
      "0.001577784790154623\n"
     ]
    }
   ],
   "source": [
    "print(y_train.sum().compute() / len(X_train.compute()))\n",
    "print(y_dev.sum().compute() / len(X_dev.compute()))\n",
    "print(y_val.sum().compute() / len(X_val.compute()))"
   ]
  },
  {
   "cell_type": "markdown",
   "id": "02d6bb7c-7f03-4083-a0c8-42e274675284",
   "metadata": {},
   "source": [
    "## Baselines Model\n",
    "We should always start with some baseline classifiers, in order to gut-check whether our resulting (more sophisticated) model is sensible. \n",
    "\n",
    "### Dummy Classifier\n",
    "A sensible baseline for binary classification is to always predict majority class. In our case, that means predicting nothing is fraud, everything is fine. That's gonna give us a heck of a good accuracy."
   ]
  },
  {
   "cell_type": "code",
   "execution_count": null,
   "id": "1f68c9fb-b279-40a2-beec-7955cf4cf4d2",
   "metadata": {},
   "outputs": [
    {
     "data": {
      "text/plain": [
       "Pipeline(steps=[('scaler', StandardScaler()),\n",
       "                ('majority_classifier',\n",
       "                 DummyClassifier(strategy='most_frequent'))])"
      ]
     },
     "execution_count": 16,
     "metadata": {},
     "output_type": "execute_result"
    }
   ],
   "source": [
    "baseline_pipeline = Pipeline([\n",
    "    ('scaler', StandardScaler()),\n",
    "    ('majority_classifier', DummyClassifier(strategy=\"most_frequent\"))\n",
    "])\n",
    "\n",
    "baseline_pipeline.fit(X_train, y_train)"
   ]
  },
  {
   "cell_type": "code",
   "execution_count": null,
   "id": "9c10dbc7-961f-49ef-96c0-fb82697fce0a",
   "metadata": {},
   "outputs": [
    {
     "name": "stdout",
     "output_type": "stream",
     "text": [
      "Score on the train set: 0.998229538125116\n",
      "Score on the dev set: 0.9983818485621317\n"
     ]
    }
   ],
   "source": [
    "print(\"Score on the train set:\", baseline_pipeline.score(X_train, y_train))\n",
    "print(\"Score on the dev set:\", baseline_pipeline.score(X_dev, y_dev))"
   ]
  },
  {
   "cell_type": "markdown",
   "id": "fec75026-5e73-40fe-98f2-8e263fa09250",
   "metadata": {},
   "source": [
    "A better metric would be area under the PR curve. Maximizing this then allows us to choose an informed threshold (trading off precision and recall to suit the eventual application)."
   ]
  },
  {
   "cell_type": "code",
   "execution_count": 6,
   "id": "0036d716-05f8-4b5d-92db-e1509276e1c3",
   "metadata": {},
   "outputs": [],
   "source": [
    "def area_under_pr_curve(classifier, X, y):\n",
    "    precision, recall, _ = precision_recall_curve(classifier.predict(X), y)\n",
    "    area = auc(recall, precision)\n",
    "    return area"
   ]
  },
  {
   "cell_type": "code",
   "execution_count": null,
   "id": "a17b5c70-0ef5-4211-9a33-302ed15e7794",
   "metadata": {},
   "outputs": [
    {
     "name": "stderr",
     "output_type": "stream",
     "text": [
      "/home/cdsw/.local/lib/python3.9/site-packages/sklearn/metrics/_ranking.py:864: RuntimeWarning: invalid value encountered in true_divide\n",
      "  recall = tps / tps[-1]\n"
     ]
    },
    {
     "data": {
      "text/plain": [
       "nan"
      ]
     },
     "execution_count": 19,
     "metadata": {},
     "output_type": "execute_result"
    }
   ],
   "source": [
    "area_under_pr_curve(baseline_pipeline, X_train, y_train)"
   ]
  },
  {
   "cell_type": "code",
   "execution_count": null,
   "id": "5f4b08d9-abdf-4061-80c3-50d11b3bfb72",
   "metadata": {},
   "outputs": [
    {
     "name": "stderr",
     "output_type": "stream",
     "text": [
      "/home/cdsw/.local/lib/python3.9/site-packages/sklearn/metrics/_classification.py:1318: UndefinedMetricWarning: Precision is ill-defined and being set to 0.0 due to no predicted samples. Use `zero_division` parameter to control this behavior.\n",
      "  _warn_prf(average, modifier, msg_start, len(result))\n"
     ]
    },
    {
     "data": {
      "text/plain": [
       "(0.0, 0.0)"
      ]
     },
     "execution_count": 21,
     "metadata": {},
     "output_type": "execute_result"
    }
   ],
   "source": [
    "(precision_score(y_train, baseline_pipeline.predict(X_train)),\n",
    " recall_score(y_train, baseline_pipeline.predict(X_train)))"
   ]
  },
  {
   "cell_type": "markdown",
   "id": "70916a9b-5364-4aec-b3d8-798024806a03",
   "metadata": {},
   "source": [
    "But of course, this doesn't work. The area under our PR is not defined, because we always predict a single class - nothing varies with the threshold. Our precision for the one class is zero - we never predict the one class. Our precision for the zero class collapses to be simply the fraction of positive examples.\n",
    "\n",
    "The good news is, we can probably improve on the baseline precision of 0 and recall of 0.\n",
    "\n",
    "### Logistic Regression\n",
    "Let's do the next most simple thing: logistic regression with no regularization.\n"
   ]
  },
  {
   "cell_type": "code",
   "execution_count": 22,
   "id": "3969b7bd-462b-4243-b902-b512cb050afb",
   "metadata": {},
   "outputs": [],
   "source": [
    "logistic_pipeline = Pipeline([\n",
    "    ('scaler', StandardScaler()),\n",
    "    ('logistic_regression', LogisticRegression(penalty=\"none\"))\n",
    "])"
   ]
  },
  {
   "cell_type": "code",
   "execution_count": 23,
   "id": "96ef19f3-9561-4a07-bd52-f09c4141d8c6",
   "metadata": {},
   "outputs": [
    {
     "data": {
      "text/plain": [
       "Pipeline(steps=[('scaler', StandardScaler()),\n",
       "                ('logistic_regression', LogisticRegression(penalty='none'))])"
      ]
     },
     "execution_count": 23,
     "metadata": {},
     "output_type": "execute_result"
    }
   ],
   "source": [
    "logistic_pipeline.fit(X_train, y_train)"
   ]
  },
  {
   "cell_type": "code",
   "execution_count": 24,
   "id": "a9e4da71-64d1-4ad8-9cd4-6486fd49d60a",
   "metadata": {},
   "outputs": [
    {
     "data": {
      "text/plain": [
       "0.7896446578853034"
      ]
     },
     "execution_count": 24,
     "metadata": {},
     "output_type": "execute_result"
    }
   ],
   "source": [
    "area_under_pr_curve(logistic_pipeline, X_train, y_train)"
   ]
  },
  {
   "cell_type": "code",
   "execution_count": 25,
   "id": "8832e4b6-fb6e-45fd-86dc-8bb3b32b0cc8",
   "metadata": {},
   "outputs": [
    {
     "data": {
      "text/plain": [
       "0.6958413175686905"
      ]
     },
     "execution_count": 25,
     "metadata": {},
     "output_type": "execute_result"
    }
   ],
   "source": [
    "area_under_pr_curve(logistic_pipeline, X_dev, y_dev)"
   ]
  },
  {
   "cell_type": "markdown",
   "id": "70ff82d7-1ff0-41bd-8577-061bcd3cf483",
   "metadata": {},
   "source": [
    "There we go -- some reasonable baselines that we can compare our XGBoost model against. It's time to up our ML game and compute! "
   ]
  },
  {
   "cell_type": "markdown",
   "id": "17fb48ce-e389-4a4c-a8cc-56627d48d039",
   "metadata": {},
   "source": [
    "## Distributed XGBoost\n",
    "\n",
    "So far, we've been using Dask DataFrames as a drop-in replacement for Pandas. Either can be used interchangeably in sklearn models, as we demonstrated above. These baseline models were run on the single CPU available to this notebook, since they required minimal (or no) training.  However, XGBoost is another story. It's time to see how we can use XGBoost+Dask to perform distributed training over multiple CPUs. \n",
    "\n",
    "First we spin up a Dask cluster using the `run_dask_cluster` function, which wraps together the steps we detailed in the Dask Intro notebook.  \n"
   ]
  },
  {
   "cell_type": "code",
   "execution_count": 7,
   "id": "231942c2-de16-445c-a251-14aa512b5ed2",
   "metadata": {},
   "outputs": [],
   "source": [
    "NUM_WORKERS=2\n",
    "CPU_PER_WORKER=1\n",
    "MEM_PER_WORKER=2"
   ]
  },
  {
   "cell_type": "code",
   "execution_count": 8,
   "id": "9230ed9a-5c85-461c-89b5-022e4fcb5012",
   "metadata": {},
   "outputs": [],
   "source": [
    "dask_cluster = run_dask_cluster(num_workers=NUM_WORKERS, cpu=CPU_PER_WORKER, memory=MEM_PER_WORKER)"
   ]
  },
  {
   "cell_type": "code",
   "execution_count": 9,
   "id": "5f31c55d-3cd2-4c0c-b7ae-afdebe01fabf",
   "metadata": {},
   "outputs": [
    {
     "data": {
      "text/html": [
       "<div>\n",
       "    <div style=\"width: 24px; height: 24px; background-color: #e1e1e1; border: 3px solid #9D9D9D; border-radius: 5px; position: absolute;\"> </div>\n",
       "    <div style=\"margin-left: 48px;\">\n",
       "        <h3 style=\"margin-bottom: 0px;\">Client</h3>\n",
       "        <p style=\"color: #9D9D9D; margin-bottom: 0px;\">Client-88ac23c6-0480-11ed-80da-0e6fc3b80f06</p>\n",
       "        <table style=\"width: 100%; text-align: left;\">\n",
       "\n",
       "        <tr>\n",
       "        \n",
       "            <td style=\"text-align: left;\"><strong>Connection method:</strong> Direct</td>\n",
       "            <td style=\"text-align: left;\"></td>\n",
       "        \n",
       "        </tr>\n",
       "\n",
       "        \n",
       "            <tr>\n",
       "                <td style=\"text-align: left;\">\n",
       "                    <strong>Dashboard: </strong> <a href=\"http://100.66.128.5:8100/status\" target=\"_blank\">http://100.66.128.5:8100/status</a>\n",
       "                </td>\n",
       "                <td style=\"text-align: left;\"></td>\n",
       "            </tr>\n",
       "        \n",
       "\n",
       "        </table>\n",
       "\n",
       "        \n",
       "            <details>\n",
       "            <summary style=\"margin-bottom: 20px;\"><h3 style=\"display: inline;\">Scheduler Info</h3></summary>\n",
       "            <div style=\"\">\n",
       "    <div>\n",
       "        <div style=\"width: 24px; height: 24px; background-color: #FFF7E5; border: 3px solid #FF6132; border-radius: 5px; position: absolute;\"> </div>\n",
       "        <div style=\"margin-left: 48px;\">\n",
       "            <h3 style=\"margin-bottom: 0px;\">Scheduler</h3>\n",
       "            <p style=\"color: #9D9D9D; margin-bottom: 0px;\">Scheduler-05b6d64a-29be-4ab0-ad51-8d5d8ca3a235</p>\n",
       "            <table style=\"width: 100%; text-align: left;\">\n",
       "                <tr>\n",
       "                    <td style=\"text-align: left;\">\n",
       "                        <strong>Comm:</strong> tcp://100.66.128.5:8786\n",
       "                    </td>\n",
       "                    <td style=\"text-align: left;\">\n",
       "                        <strong>Workers:</strong> 2\n",
       "                    </td>\n",
       "                </tr>\n",
       "                <tr>\n",
       "                    <td style=\"text-align: left;\">\n",
       "                        <strong>Dashboard:</strong> <a href=\"http://100.66.128.5:8100/status\" target=\"_blank\">http://100.66.128.5:8100/status</a>\n",
       "                    </td>\n",
       "                    <td style=\"text-align: left;\">\n",
       "                        <strong>Total threads:</strong> 24\n",
       "                    </td>\n",
       "                </tr>\n",
       "                <tr>\n",
       "                    <td style=\"text-align: left;\">\n",
       "                        <strong>Started:</strong> 2 minutes ago\n",
       "                    </td>\n",
       "                    <td style=\"text-align: left;\">\n",
       "                        <strong>Total memory:</strong> 3.69 GiB\n",
       "                    </td>\n",
       "                </tr>\n",
       "            </table>\n",
       "        </div>\n",
       "    </div>\n",
       "\n",
       "    <details style=\"margin-left: 48px;\">\n",
       "        <summary style=\"margin-bottom: 20px;\">\n",
       "            <h3 style=\"display: inline;\">Workers</h3>\n",
       "        </summary>\n",
       "\n",
       "        \n",
       "        <div style=\"margin-bottom: 20px;\">\n",
       "            <div style=\"width: 24px; height: 24px; background-color: #DBF5FF; border: 3px solid #4CC9FF; border-radius: 5px; position: absolute;\"> </div>\n",
       "            <div style=\"margin-left: 48px;\">\n",
       "            <details>\n",
       "                <summary>\n",
       "                    <h4 style=\"margin-bottom: 0px; display: inline;\">Worker: tcp://100.66.128.6:37506</h4>\n",
       "                </summary>\n",
       "                <table style=\"width: 100%; text-align: left;\">\n",
       "                    <tr>\n",
       "                        <td style=\"text-align: left;\">\n",
       "                            <strong>Comm: </strong> tcp://100.66.128.6:37506\n",
       "                        </td>\n",
       "                        <td style=\"text-align: left;\">\n",
       "                            <strong>Total threads: </strong> 8\n",
       "                        </td>\n",
       "                    </tr>\n",
       "                    <tr>\n",
       "                        <td style=\"text-align: left;\">\n",
       "                            <strong>Dashboard: </strong> <a href=\"http://100.66.128.6:42683/status\" target=\"_blank\">http://100.66.128.6:42683/status</a>\n",
       "                        </td>\n",
       "                        <td style=\"text-align: left;\">\n",
       "                            <strong>Memory: </strong> 1.85 GiB\n",
       "                        </td>\n",
       "                    </tr>\n",
       "                    <tr>\n",
       "                        <td style=\"text-align: left;\">\n",
       "                            <strong>Nanny: </strong> tcp://100.66.128.6:46785\n",
       "                        </td>\n",
       "                        <td style=\"text-align: left;\"></td>\n",
       "                    </tr>\n",
       "                    <tr>\n",
       "                        <td colspan=\"2\" style=\"text-align: left;\">\n",
       "                            <strong>Local directory: </strong> /home/cdsw/dask-worker-space/worker-tr1oaigm\n",
       "                        </td>\n",
       "                    </tr>\n",
       "\n",
       "                    \n",
       "\n",
       "                    \n",
       "                    <tr>\n",
       "                        <td style=\"text-align: left;\">\n",
       "                            <strong>Tasks executing: </strong> 0\n",
       "                        </td>\n",
       "                        <td style=\"text-align: left;\">\n",
       "                            <strong>Tasks in memory: </strong> 0\n",
       "                        </td>\n",
       "                    </tr>\n",
       "                    <tr>\n",
       "                        <td style=\"text-align: left;\">\n",
       "                            <strong>Tasks ready: </strong> 0\n",
       "                        </td>\n",
       "                        <td style=\"text-align: left;\">\n",
       "                            <strong>Tasks in flight: </strong>0\n",
       "                        </td>\n",
       "                    </tr>\n",
       "                    <tr>\n",
       "                        <td style=\"text-align: left;\">\n",
       "                            <strong>CPU usage:</strong> 8.0%\n",
       "                        </td>\n",
       "                        <td style=\"text-align: left;\">\n",
       "                            <strong>Last seen: </strong> Just now\n",
       "                        </td>\n",
       "                    </tr>\n",
       "                    <tr>\n",
       "                        <td style=\"text-align: left;\">\n",
       "                            <strong>Memory usage: </strong> 97.34 MiB\n",
       "                        </td>\n",
       "                        <td style=\"text-align: left;\">\n",
       "                            <strong>Spilled bytes: </strong> 0 B\n",
       "                        </td>\n",
       "                    </tr>\n",
       "                    <tr>\n",
       "                        <td style=\"text-align: left;\">\n",
       "                            <strong>Read bytes: </strong> 502.15420308436694 B\n",
       "                        </td>\n",
       "                        <td style=\"text-align: left;\">\n",
       "                            <strong>Write bytes: </strong> 1.07 kiB\n",
       "                        </td>\n",
       "                    </tr>\n",
       "                    \n",
       "\n",
       "                </table>\n",
       "            </details>\n",
       "            </div>\n",
       "        </div>\n",
       "        \n",
       "        <div style=\"margin-bottom: 20px;\">\n",
       "            <div style=\"width: 24px; height: 24px; background-color: #DBF5FF; border: 3px solid #4CC9FF; border-radius: 5px; position: absolute;\"> </div>\n",
       "            <div style=\"margin-left: 48px;\">\n",
       "            <details>\n",
       "                <summary>\n",
       "                    <h4 style=\"margin-bottom: 0px; display: inline;\">Worker: tcp://100.66.96.36:40434</h4>\n",
       "                </summary>\n",
       "                <table style=\"width: 100%; text-align: left;\">\n",
       "                    <tr>\n",
       "                        <td style=\"text-align: left;\">\n",
       "                            <strong>Comm: </strong> tcp://100.66.96.36:40434\n",
       "                        </td>\n",
       "                        <td style=\"text-align: left;\">\n",
       "                            <strong>Total threads: </strong> 16\n",
       "                        </td>\n",
       "                    </tr>\n",
       "                    <tr>\n",
       "                        <td style=\"text-align: left;\">\n",
       "                            <strong>Dashboard: </strong> <a href=\"http://100.66.96.36:40652/status\" target=\"_blank\">http://100.66.96.36:40652/status</a>\n",
       "                        </td>\n",
       "                        <td style=\"text-align: left;\">\n",
       "                            <strong>Memory: </strong> 1.85 GiB\n",
       "                        </td>\n",
       "                    </tr>\n",
       "                    <tr>\n",
       "                        <td style=\"text-align: left;\">\n",
       "                            <strong>Nanny: </strong> tcp://100.66.96.36:37516\n",
       "                        </td>\n",
       "                        <td style=\"text-align: left;\"></td>\n",
       "                    </tr>\n",
       "                    <tr>\n",
       "                        <td colspan=\"2\" style=\"text-align: left;\">\n",
       "                            <strong>Local directory: </strong> /home/cdsw/dask-worker-space/worker-0hvdp2dh\n",
       "                        </td>\n",
       "                    </tr>\n",
       "\n",
       "                    \n",
       "\n",
       "                    \n",
       "                    <tr>\n",
       "                        <td style=\"text-align: left;\">\n",
       "                            <strong>Tasks executing: </strong> 0\n",
       "                        </td>\n",
       "                        <td style=\"text-align: left;\">\n",
       "                            <strong>Tasks in memory: </strong> 0\n",
       "                        </td>\n",
       "                    </tr>\n",
       "                    <tr>\n",
       "                        <td style=\"text-align: left;\">\n",
       "                            <strong>Tasks ready: </strong> 0\n",
       "                        </td>\n",
       "                        <td style=\"text-align: left;\">\n",
       "                            <strong>Tasks in flight: </strong>0\n",
       "                        </td>\n",
       "                    </tr>\n",
       "                    <tr>\n",
       "                        <td style=\"text-align: left;\">\n",
       "                            <strong>CPU usage:</strong> 6.0%\n",
       "                        </td>\n",
       "                        <td style=\"text-align: left;\">\n",
       "                            <strong>Last seen: </strong> Just now\n",
       "                        </td>\n",
       "                    </tr>\n",
       "                    <tr>\n",
       "                        <td style=\"text-align: left;\">\n",
       "                            <strong>Memory usage: </strong> 99.59 MiB\n",
       "                        </td>\n",
       "                        <td style=\"text-align: left;\">\n",
       "                            <strong>Spilled bytes: </strong> 0 B\n",
       "                        </td>\n",
       "                    </tr>\n",
       "                    <tr>\n",
       "                        <td style=\"text-align: left;\">\n",
       "                            <strong>Read bytes: </strong> 2.63 kiB\n",
       "                        </td>\n",
       "                        <td style=\"text-align: left;\">\n",
       "                            <strong>Write bytes: </strong> 3.21 kiB\n",
       "                        </td>\n",
       "                    </tr>\n",
       "                    \n",
       "\n",
       "                </table>\n",
       "            </details>\n",
       "            </div>\n",
       "        </div>\n",
       "        \n",
       "\n",
       "    </details>\n",
       "</div>\n",
       "            </details>\n",
       "        \n",
       "\n",
       "    </div>\n",
       "</div>"
      ],
      "text/plain": [
       "<Client: 'tcp://100.66.128.5:8786' processes=2 threads=24, memory=3.69 GiB>"
      ]
     },
     "execution_count": 9,
     "metadata": {},
     "output_type": "execute_result"
    }
   ],
   "source": [
    "client = Client(dask_cluster['scheduler_address'])\n",
    "client"
   ]
  },
  {
   "cell_type": "code",
   "execution_count": 9,
   "id": "012ef509-506c-4147-99be-c46674c9f2d5",
   "metadata": {},
   "outputs": [
    {
     "name": "stdout",
     "output_type": "stream",
     "text": [
      "https://3uxgi5ykbsdddrxj.fflab-4.cdsw-int.cloudera.com/status\n"
     ]
    }
   ],
   "source": [
    "print(\"//\".join(dask_cluster['scheduler'][0][\"app_url\"].split(\"//\")) + \"status\")"
   ]
  },
  {
   "cell_type": "markdown",
   "id": "a5f2bfbe-01f0-4c3f-aedd-c92192ee67ca",
   "metadata": {},
   "source": [
    "\n",
    "XGBoost requires data in a specialized format called a DMatrix, a data object that has been optimized for memory efficiency. Below, we perform an operation that converts our Dask DataFrames to a Dask DMatrix. Under the hood, this process may place one or more DataFrame partitions onto one or more DMatrix objects. For large datasets, this may take some time because we are literally moving the data around the cluster we just spun up (which is why we pass it the dask `client`)."
   ]
  },
  {
   "cell_type": "code",
   "execution_count": 10,
   "id": "c1e07a43-9bd9-48f6-b4b9-be5a809eb5eb",
   "metadata": {},
   "outputs": [],
   "source": [
    "# X and y must be Dask dataframes or arrays\n",
    "dtrain = xgb.dask.DaskDMatrix(client, X_train, y_train)\n",
    "ddev = xgb.dask.DaskDMatrix(client, X_dev, y_dev)"
   ]
  },
  {
   "cell_type": "markdown",
   "id": "faf7824b-1462-43ee-9bb5-2757070608ca",
   "metadata": {},
   "source": [
    "Next we define some basic parameters for the XGBoost model, including a logistic objective function (since this is ultimately a classification problem), and the area under the PR curve evaluation metric. We also pass a list of evaluation datasets. For each round of boosting, the model will evaluate on whatever datasets are passed -- in this case, we include both the train and dev sets. "
   ]
  },
  {
   "cell_type": "code",
   "execution_count": 47,
   "id": "977613fe-b7dc-4ea9-adc4-d76d01a2a3b9",
   "metadata": {},
   "outputs": [],
   "source": [
    "eval_list = [(ddev,'dev'), (dtrain,'train')]\n",
    "num_round = 5\n",
    "\n",
    "params = {\n",
    "    \"verbosity\": 2,\n",
    "    \"tree_method\": \"hist\",\n",
    "    \"objective\": \"reg:logistic\",\n",
    "    \"eval_metric\": \"aucpr\"  \n",
    "}\n",
    "\n",
    "output = xgb.dask.train(client, params, dtrain, num_round, evals=eval_list)"
   ]
  },
  {
   "cell_type": "code",
   "execution_count": 48,
   "id": "8fb09926-6fd1-46a2-becc-9aee8c8b2e2e",
   "metadata": {},
   "outputs": [
    {
     "data": {
      "text/plain": [
       "{'booster': <xgboost.core.Booster at 0x7fba68378430>,\n",
       " 'history': {'dev': OrderedDict([('aucpr',\n",
       "                [0.7933187288028487,\n",
       "                 0.8073171163414897,\n",
       "                 0.8135432761784731,\n",
       "                 0.8160643138848045,\n",
       "                 0.8331958342476582])]),\n",
       "  'train': OrderedDict([('aucpr',\n",
       "                [0.8257486376337724,\n",
       "                 0.8379667306320957,\n",
       "                 0.8454408627529848,\n",
       "                 0.8466568583907665,\n",
       "                 0.8479261932361819])])}}"
      ]
     },
     "execution_count": 48,
     "metadata": {},
     "output_type": "execute_result"
    }
   ],
   "source": [
    "output"
   ]
  },
  {
   "cell_type": "markdown",
   "id": "d7c2c55d-24b8-43a0-a4e4-b2b6e4631179",
   "metadata": {},
   "source": [
    "Discussion. \n",
    "\n",
    "\n",
    "### Hyperparameter tuning\n",
    "stuff"
   ]
  },
  {
   "cell_type": "code",
   "execution_count": 18,
   "id": "942c2510-6df7-4f9e-925c-94a3267a667d",
   "metadata": {},
   "outputs": [],
   "source": [
    "def tune_xgboost(client, dtrain, params, search_space, num_samples, random_state=42):\n",
    "    \"\"\"\n",
    "    Perform a random hyperparameter search for a distributed XGBoost model. \n",
    "    Returns the best model, best score, best parameters, and a Pandas DF containing \n",
    "    all hyperparameter tuning details. \n",
    "    \n",
    "    Keyword arguments: \n",
    "    client -- Dask client\n",
    "    dtrain -- training data in DaskDMatrix object\n",
    "    params -- dict of XGBoost parameters that remain constant throughout hyperparameter tuning\n",
    "    search_space -- dict of XGBoost parameters that will undergo random sampling\n",
    "    num_samples -- number of random hyperparameter samples\n",
    "    random_state -- random state initialization for the random hyperparameter sampling function\n",
    "    \"\"\"\n",
    "    best_params, best_score, best_model = None, 0, None\n",
    "    hp_results = list()\n",
    "    \n",
    "    try:\n",
    "        num_round = params.pop(\"num_round\")\n",
    "    except KeyError:\n",
    "        print(\"Number of boosting rounds missing! Please supply `num_round` to params\")\n",
    "        return\n",
    "\n",
    "    try:\n",
    "        eval_list = params.pop(\"eval_list\")\n",
    "    except KeyError:\n",
    "        print(\"No `eval_list` data provided. Hyperparameter tuning will be scored on the train set.\")\n",
    "        eval_list = [(dtrain, \"train\")]\n",
    "\n",
    "    for hp in tqdm(ParameterSampler(search_space, n_iter=num_samples, random_state=random_state)):\n",
    "        params.update(hp)\n",
    "        params_key = str(params)\n",
    "\n",
    "        # Try to find new best model\n",
    "        output = xgb.dask.train(client, params, dtrain, num_round, evals=eval_list)\n",
    "        score = output[\"history\"][\"dev\"][\"aucpr\"][-1]\n",
    "        if score > best_score:\n",
    "            best_params, best_score = params_key, score\n",
    "            best_model = output[\"booster\"]\n",
    "\n",
    "        # Save history (scores) for reference\n",
    "        hp[\"score\"] = score\n",
    "        for _, sample in eval_list:\n",
    "            for metric in params[\"eval_metric\"]:\n",
    "                hp[f\"{sample}_{metric}\"] = output[\"history\"][sample][metric]\n",
    "        hp_results.append(hp)\n",
    "\n",
    "        tqdm._instances.clear()  # jupyter notebook hack\n",
    "\n",
    "    history_df = pd.DataFrame(hp_results)\n",
    "    return {\n",
    "        \"best_model\":best_model, \n",
    "        \"best_params\":best_params, \n",
    "        \"best_score\":best_score, \n",
    "        \"hp_history\":history_df\n",
    "        }"
   ]
  },
  {
   "cell_type": "code",
   "execution_count": null,
   "id": "e9a996e6-3a59-49db-b67a-b108432cf1fc",
   "metadata": {},
   "outputs": [
    {
     "name": "stderr",
     "output_type": "stream",
     "text": [
      " 80%|██████████████████████████████████▍        | 16/20 [06:03<01:33, 23.33s/it]"
     ]
    }
   ],
   "source": [
    "eval_list = [(ddev,'dev'), (dtrain,'train')]\n",
    "eval_metrics = [\"error\", \"aucpr\"]\n",
    "\n",
    "# These parameters will remain constant during the tuning process\n",
    "params = {\n",
    "    \"verbosity\": 2,\n",
    "    \"tree_method\": \"hist\",\n",
    "    \"objective\": \"reg:logistic\",\n",
    "    \"eval_metric\": eval_metrics,\n",
    "    # The following are not hyperparameters of the model but are used during training. \n",
    "    \"eval_list\": eval_list,  \n",
    "    \"num_round\": 5\n",
    "}\n",
    "\n",
    "# These parameters will be tuned. \n",
    "search_space = {\n",
    "    \"learning_rate\": uniform(0, 1),      # learning rate\n",
    "    \"gamma\": loguniform(1e-6, 1e+1),     # minimum loss to make partition \n",
    "    \"max_depth\": randint(1, 20),         # max tree depth\n",
    "    \"min_child_weight\": uniform(0, 10),  # min weight of node for further partitioning\n",
    "    \"max_delta_step\": uniform(0, 10),    # max weight of each tree \n",
    "    \"subsample\": uniform(0, 1),          # subsample ratio of training examples\n",
    "    \"lambda\": uniform(0, 1),            # L2 reg\n",
    "    \"alpha\": uniform(0, 1),             # L1 reg\n",
    "}\n",
    "\n",
    "results = tune_xgboost(client, dtrain, params, search_space, num_samples=20)"
   ]
  },
  {
   "cell_type": "code",
   "execution_count": 37,
   "id": "7c9dd411-d2fa-4c45-b31f-32de60356b73",
   "metadata": {},
   "outputs": [
    {
     "data": {
      "text/plain": [
       "<xgboost.core.Booster at 0x7fa1de2a7970>"
      ]
     },
     "execution_count": 37,
     "metadata": {},
     "output_type": "execute_result"
    }
   ],
   "source": [
    "results[\"best_model\"]"
   ]
  },
  {
   "cell_type": "code",
   "execution_count": 45,
   "id": "12adc573-369e-4ffa-b554-4bf116f97cc2",
   "metadata": {},
   "outputs": [
    {
     "data": {
      "text/html": [
       "<div>\n",
       "<style scoped>\n",
       "    .dataframe tbody tr th:only-of-type {\n",
       "        vertical-align: middle;\n",
       "    }\n",
       "\n",
       "    .dataframe tbody tr th {\n",
       "        vertical-align: top;\n",
       "    }\n",
       "\n",
       "    .dataframe thead th {\n",
       "        text-align: right;\n",
       "    }\n",
       "</style>\n",
       "<table border=\"1\" class=\"dataframe\">\n",
       "  <thead>\n",
       "    <tr style=\"text-align: right;\">\n",
       "      <th></th>\n",
       "      <th>alpha</th>\n",
       "      <th>gamma</th>\n",
       "      <th>lambda</th>\n",
       "      <th>learning_rate</th>\n",
       "      <th>max_delta_step</th>\n",
       "      <th>max_depth</th>\n",
       "      <th>min_child_weight</th>\n",
       "      <th>subsample</th>\n",
       "      <th>score</th>\n",
       "      <th>dev_error</th>\n",
       "      <th>dev_auc</th>\n",
       "      <th>dev_aucpr</th>\n",
       "      <th>train_error</th>\n",
       "      <th>train_auc</th>\n",
       "      <th>train_aucpr</th>\n",
       "    </tr>\n",
       "  </thead>\n",
       "  <tbody>\n",
       "    <tr>\n",
       "      <th>0</th>\n",
       "      <td>0.374540</td>\n",
       "      <td>4.518561</td>\n",
       "      <td>0.731994</td>\n",
       "      <td>0.598658</td>\n",
       "      <td>1.560186</td>\n",
       "      <td>19</td>\n",
       "      <td>0.999749</td>\n",
       "      <td>0.459249</td>\n",
       "      <td>0.806670</td>\n",
       "      <td>[0.00059849671706948, 0.00052808533859072, 0.0...</td>\n",
       "      <td>[0.8853551244115545, 0.8955385595920968, 0.905...</td>\n",
       "      <td>[0.7419359375823764, 0.7687644731755581, 0.779...</td>\n",
       "      <td>[0.00055595624474095, 0.0005759907040109, 0.00...</td>\n",
       "      <td>[0.8916259982729834, 0.9108409398266082, 0.916...</td>\n",
       "      <td>[0.7338067194543283, 0.7806093014046409, 0.786...</td>\n",
       "    </tr>\n",
       "    <tr>\n",
       "      <th>1</th>\n",
       "      <td>0.333709</td>\n",
       "      <td>0.000010</td>\n",
       "      <td>0.650888</td>\n",
       "      <td>0.056412</td>\n",
       "      <td>7.219988</td>\n",
       "      <td>6</td>\n",
       "      <td>0.007788</td>\n",
       "      <td>0.992212</td>\n",
       "      <td>0.805326</td>\n",
       "      <td>[0.00058089387244979, 0.00052808533859072, 0.0...</td>\n",
       "      <td>[0.9266617442046274, 0.926663213596281, 0.9266...</td>\n",
       "      <td>[0.7933913774276207, 0.7942255756206218, 0.802...</td>\n",
       "      <td>[0.00032555996313659, 0.00033557719277157, 0.0...</td>\n",
       "      <td>[0.9246457572900009, 0.9246478197655055, 0.924...</td>\n",
       "      <td>[0.8290418860727975, 0.8333109839558931, 0.842...</td>\n",
       "    </tr>\n",
       "    <tr>\n",
       "      <th>2</th>\n",
       "      <td>0.617482</td>\n",
       "      <td>0.019124</td>\n",
       "      <td>0.007066</td>\n",
       "      <td>0.023062</td>\n",
       "      <td>5.247747</td>\n",
       "      <td>10</td>\n",
       "      <td>0.466657</td>\n",
       "      <td>0.973756</td>\n",
       "      <td>0.812734</td>\n",
       "      <td>[0.00052808533859072, 0.00051048249397103, 0.0...</td>\n",
       "      <td>[0.935099542100826, 0.9357187070088145, 0.9477...</td>\n",
       "      <td>[0.8138190574041924, 0.820196801325775, 0.8133...</td>\n",
       "      <td>[0.00027046520014425, 0.00024041351123933, 0.0...</td>\n",
       "      <td>[0.9509330388341283, 0.9541706794357312, 0.966...</td>\n",
       "      <td>[0.894127946774915, 0.9073064293731018, 0.9137...</td>\n",
       "    </tr>\n",
       "    <tr>\n",
       "      <th>3</th>\n",
       "      <td>0.232771</td>\n",
       "      <td>0.000004</td>\n",
       "      <td>0.618386</td>\n",
       "      <td>0.382462</td>\n",
       "      <td>9.832309</td>\n",
       "      <td>3</td>\n",
       "      <td>8.599404</td>\n",
       "      <td>0.680308</td>\n",
       "      <td>0.817505</td>\n",
       "      <td>[0.00068651094016793, 0.00068651094016793, 0.0...</td>\n",
       "      <td>[0.9266112338665389, 0.9266520094849231, 0.926...</td>\n",
       "      <td>[0.7798016102279942, 0.7931967856768682, 0.804...</td>\n",
       "      <td>[0.00070120607444805, 0.00070621468926554, 0.0...</td>\n",
       "      <td>[0.9245626032944869, 0.9245810262175754, 0.924...</td>\n",
       "      <td>[0.769669385190038, 0.7768159514375979, 0.7894...</td>\n",
       "    </tr>\n",
       "    <tr>\n",
       "      <th>4</th>\n",
       "      <td>0.450499</td>\n",
       "      <td>0.000001</td>\n",
       "      <td>0.942202</td>\n",
       "      <td>0.563288</td>\n",
       "      <td>3.854165</td>\n",
       "      <td>2</td>\n",
       "      <td>6.842330</td>\n",
       "      <td>0.440152</td>\n",
       "      <td>0.741376</td>\n",
       "      <td>[0.00068651094016793, 0.00068651094016793, 0.0...</td>\n",
       "      <td>[0.8954046612776728, 0.9263136820567075, 0.926...</td>\n",
       "      <td>[0.6703762860056203, 0.7157868481994671, 0.737...</td>\n",
       "      <td>[0.00070120607444805, 0.00070120607444805, 0.0...</td>\n",
       "      <td>[0.896808302433827, 0.9242333039960129, 0.9243...</td>\n",
       "      <td>[0.6712171884974938, 0.720634235448863, 0.7347...</td>\n",
       "    </tr>\n",
       "    <tr>\n",
       "      <th>5</th>\n",
       "      <td>0.122038</td>\n",
       "      <td>0.002926</td>\n",
       "      <td>0.034389</td>\n",
       "      <td>0.909320</td>\n",
       "      <td>2.587800</td>\n",
       "      <td>8</td>\n",
       "      <td>7.553614</td>\n",
       "      <td>0.425156</td>\n",
       "      <td>0.815172</td>\n",
       "      <td>[0.00068651094016793, 0.00061609956168917, 0.0...</td>\n",
       "      <td>[0.9264040496433971, 0.9139680370580575, 0.940...</td>\n",
       "      <td>[0.7743407450546254, 0.8020062980849496, 0.812...</td>\n",
       "      <td>[0.00070120607444805, 0.00064110269663822, 0.0...</td>\n",
       "      <td>[0.9313026338871303, 0.9531795902775351, 0.966...</td>\n",
       "      <td>[0.769487543827144, 0.8065356590349387, 0.8284...</td>\n",
       "    </tr>\n",
       "    <tr>\n",
       "      <th>6</th>\n",
       "      <td>0.207942</td>\n",
       "      <td>0.009417</td>\n",
       "      <td>0.031313</td>\n",
       "      <td>0.842285</td>\n",
       "      <td>4.497541</td>\n",
       "      <td>10</td>\n",
       "      <td>8.948274</td>\n",
       "      <td>0.597900</td>\n",
       "      <td>0.832994</td>\n",
       "      <td>[0.00068651094016793, 0.00059849671706948, 0.0...</td>\n",
       "      <td>[0.9266182134768929, 0.937503099498019, 0.9381...</td>\n",
       "      <td>[0.7773848932179037, 0.8093708205368415, 0.833...</td>\n",
       "      <td>[0.00070120607444805, 0.00065111992627319, 0.0...</td>\n",
       "      <td>[0.9245633279480425, 0.9580591146729134, 0.969...</td>\n",
       "      <td>[0.7772404452486463, 0.821386087913317, 0.8408...</td>\n",
       "    </tr>\n",
       "    <tr>\n",
       "      <th>7</th>\n",
       "      <td>0.921874</td>\n",
       "      <td>0.000004</td>\n",
       "      <td>0.195983</td>\n",
       "      <td>0.045227</td>\n",
       "      <td>3.253303</td>\n",
       "      <td>16</td>\n",
       "      <td>7.473201</td>\n",
       "      <td>0.539692</td>\n",
       "      <td>0.802322</td>\n",
       "      <td>[0.00068651094016793, 0.00068651094016793, 0.0...</td>\n",
       "      <td>[0.9265700909002411, 0.9266463155922658, 0.926...</td>\n",
       "      <td>[0.7659391912873552, 0.785722166416966, 0.7986...</td>\n",
       "      <td>[0.00070120607444805, 0.00070120607444805, 0.0...</td>\n",
       "      <td>[0.9245490439116085, 0.9245878407481278, 0.924...</td>\n",
       "      <td>[0.7746499942453818, 0.793115644171962, 0.8023...</td>\n",
       "    </tr>\n",
       "    <tr>\n",
       "      <th>8</th>\n",
       "      <td>0.586751</td>\n",
       "      <td>5.711986</td>\n",
       "      <td>0.607034</td>\n",
       "      <td>0.275999</td>\n",
       "      <td>2.962735</td>\n",
       "      <td>13</td>\n",
       "      <td>0.745506</td>\n",
       "      <td>0.986887</td>\n",
       "      <td>0.815063</td>\n",
       "      <td>[0.00052808533859072, 0.00051048249397103, 0.0...</td>\n",
       "      <td>[0.8955288248723925, 0.8955339677431797, 0.895...</td>\n",
       "      <td>[0.7529712590215241, 0.7604670957651432, 0.760...</td>\n",
       "      <td>[0.00050086148174861, 0.00050587009656609, 0.0...</td>\n",
       "      <td>[0.8969483974760428, 0.8969649251513704, 0.896...</td>\n",
       "      <td>[0.7432915652563636, 0.7613853384874774, 0.761...</td>\n",
       "    </tr>\n",
       "    <tr>\n",
       "      <th>9</th>\n",
       "      <td>0.772245</td>\n",
       "      <td>0.000025</td>\n",
       "      <td>0.005522</td>\n",
       "      <td>0.815461</td>\n",
       "      <td>7.068573</td>\n",
       "      <td>3</td>\n",
       "      <td>7.901755</td>\n",
       "      <td>0.605960</td>\n",
       "      <td>0.819665</td>\n",
       "      <td>[0.00068651094016793, 0.00059849671706948, 0.0...</td>\n",
       "      <td>[0.9446459959995812, 0.9442413622730019, 0.944...</td>\n",
       "      <td>[0.7709314234064018, 0.797879973219332, 0.8167...</td>\n",
       "      <td>[0.00070120607444805, 0.00065111992627319, 0.0...</td>\n",
       "      <td>[0.9466159988900538, 0.9520753994220721, 0.952...</td>\n",
       "      <td>[0.7723813425254862, 0.8013427364098495, 0.815...</td>\n",
       "    </tr>\n",
       "  </tbody>\n",
       "</table>\n",
       "</div>"
      ],
      "text/plain": [
       "      alpha     gamma    lambda  learning_rate  max_delta_step  max_depth  \\\n",
       "0  0.374540  4.518561  0.731994       0.598658        1.560186         19   \n",
       "1  0.333709  0.000010  0.650888       0.056412        7.219988          6   \n",
       "2  0.617482  0.019124  0.007066       0.023062        5.247747         10   \n",
       "3  0.232771  0.000004  0.618386       0.382462        9.832309          3   \n",
       "4  0.450499  0.000001  0.942202       0.563288        3.854165          2   \n",
       "5  0.122038  0.002926  0.034389       0.909320        2.587800          8   \n",
       "6  0.207942  0.009417  0.031313       0.842285        4.497541         10   \n",
       "7  0.921874  0.000004  0.195983       0.045227        3.253303         16   \n",
       "8  0.586751  5.711986  0.607034       0.275999        2.962735         13   \n",
       "9  0.772245  0.000025  0.005522       0.815461        7.068573          3   \n",
       "\n",
       "   min_child_weight  subsample     score  \\\n",
       "0          0.999749   0.459249  0.806670   \n",
       "1          0.007788   0.992212  0.805326   \n",
       "2          0.466657   0.973756  0.812734   \n",
       "3          8.599404   0.680308  0.817505   \n",
       "4          6.842330   0.440152  0.741376   \n",
       "5          7.553614   0.425156  0.815172   \n",
       "6          8.948274   0.597900  0.832994   \n",
       "7          7.473201   0.539692  0.802322   \n",
       "8          0.745506   0.986887  0.815063   \n",
       "9          7.901755   0.605960  0.819665   \n",
       "\n",
       "                                           dev_error  \\\n",
       "0  [0.00059849671706948, 0.00052808533859072, 0.0...   \n",
       "1  [0.00058089387244979, 0.00052808533859072, 0.0...   \n",
       "2  [0.00052808533859072, 0.00051048249397103, 0.0...   \n",
       "3  [0.00068651094016793, 0.00068651094016793, 0.0...   \n",
       "4  [0.00068651094016793, 0.00068651094016793, 0.0...   \n",
       "5  [0.00068651094016793, 0.00061609956168917, 0.0...   \n",
       "6  [0.00068651094016793, 0.00059849671706948, 0.0...   \n",
       "7  [0.00068651094016793, 0.00068651094016793, 0.0...   \n",
       "8  [0.00052808533859072, 0.00051048249397103, 0.0...   \n",
       "9  [0.00068651094016793, 0.00059849671706948, 0.0...   \n",
       "\n",
       "                                             dev_auc  \\\n",
       "0  [0.8853551244115545, 0.8955385595920968, 0.905...   \n",
       "1  [0.9266617442046274, 0.926663213596281, 0.9266...   \n",
       "2  [0.935099542100826, 0.9357187070088145, 0.9477...   \n",
       "3  [0.9266112338665389, 0.9266520094849231, 0.926...   \n",
       "4  [0.8954046612776728, 0.9263136820567075, 0.926...   \n",
       "5  [0.9264040496433971, 0.9139680370580575, 0.940...   \n",
       "6  [0.9266182134768929, 0.937503099498019, 0.9381...   \n",
       "7  [0.9265700909002411, 0.9266463155922658, 0.926...   \n",
       "8  [0.8955288248723925, 0.8955339677431797, 0.895...   \n",
       "9  [0.9446459959995812, 0.9442413622730019, 0.944...   \n",
       "\n",
       "                                           dev_aucpr  \\\n",
       "0  [0.7419359375823764, 0.7687644731755581, 0.779...   \n",
       "1  [0.7933913774276207, 0.7942255756206218, 0.802...   \n",
       "2  [0.8138190574041924, 0.820196801325775, 0.8133...   \n",
       "3  [0.7798016102279942, 0.7931967856768682, 0.804...   \n",
       "4  [0.6703762860056203, 0.7157868481994671, 0.737...   \n",
       "5  [0.7743407450546254, 0.8020062980849496, 0.812...   \n",
       "6  [0.7773848932179037, 0.8093708205368415, 0.833...   \n",
       "7  [0.7659391912873552, 0.785722166416966, 0.7986...   \n",
       "8  [0.7529712590215241, 0.7604670957651432, 0.760...   \n",
       "9  [0.7709314234064018, 0.797879973219332, 0.8167...   \n",
       "\n",
       "                                         train_error  \\\n",
       "0  [0.00055595624474095, 0.0005759907040109, 0.00...   \n",
       "1  [0.00032555996313659, 0.00033557719277157, 0.0...   \n",
       "2  [0.00027046520014425, 0.00024041351123933, 0.0...   \n",
       "3  [0.00070120607444805, 0.00070621468926554, 0.0...   \n",
       "4  [0.00070120607444805, 0.00070120607444805, 0.0...   \n",
       "5  [0.00070120607444805, 0.00064110269663822, 0.0...   \n",
       "6  [0.00070120607444805, 0.00065111992627319, 0.0...   \n",
       "7  [0.00070120607444805, 0.00070120607444805, 0.0...   \n",
       "8  [0.00050086148174861, 0.00050587009656609, 0.0...   \n",
       "9  [0.00070120607444805, 0.00065111992627319, 0.0...   \n",
       "\n",
       "                                           train_auc  \\\n",
       "0  [0.8916259982729834, 0.9108409398266082, 0.916...   \n",
       "1  [0.9246457572900009, 0.9246478197655055, 0.924...   \n",
       "2  [0.9509330388341283, 0.9541706794357312, 0.966...   \n",
       "3  [0.9245626032944869, 0.9245810262175754, 0.924...   \n",
       "4  [0.896808302433827, 0.9242333039960129, 0.9243...   \n",
       "5  [0.9313026338871303, 0.9531795902775351, 0.966...   \n",
       "6  [0.9245633279480425, 0.9580591146729134, 0.969...   \n",
       "7  [0.9245490439116085, 0.9245878407481278, 0.924...   \n",
       "8  [0.8969483974760428, 0.8969649251513704, 0.896...   \n",
       "9  [0.9466159988900538, 0.9520753994220721, 0.952...   \n",
       "\n",
       "                                         train_aucpr  \n",
       "0  [0.7338067194543283, 0.7806093014046409, 0.786...  \n",
       "1  [0.8290418860727975, 0.8333109839558931, 0.842...  \n",
       "2  [0.894127946774915, 0.9073064293731018, 0.9137...  \n",
       "3  [0.769669385190038, 0.7768159514375979, 0.7894...  \n",
       "4  [0.6712171884974938, 0.720634235448863, 0.7347...  \n",
       "5  [0.769487543827144, 0.8065356590349387, 0.8284...  \n",
       "6  [0.7772404452486463, 0.821386087913317, 0.8408...  \n",
       "7  [0.7746499942453818, 0.793115644171962, 0.8023...  \n",
       "8  [0.7432915652563636, 0.7613853384874774, 0.761...  \n",
       "9  [0.7723813425254862, 0.8013427364098495, 0.815...  "
      ]
     },
     "execution_count": 45,
     "metadata": {},
     "output_type": "execute_result"
    }
   ],
   "source": [
    "results[\"hp_history\"]"
   ]
  },
  {
   "cell_type": "code",
   "execution_count": 21,
   "id": "5f6caf4b-2b39-419b-8026-bd24def6cd79",
   "metadata": {},
   "outputs": [
    {
     "data": {
      "text/plain": [
       "\"{'verbosity': 2, 'tree_method': 'hist', 'objective': 'reg:logistic', 'eval_metric': ['error', 'auc', 'aucpr'], 'alpha': 2.079416628681888, 'gamma': 0.009416777190511021, 'lambda': 0.31313292455558583, 'learning_rate': 0.8422847745949985, 'max_delta_step': 4.497541333697656, 'max_depth': 10, 'min_child_weight': 8.948273504276488, 'subsample': 0.5978999788110851}\""
      ]
     },
     "execution_count": 21,
     "metadata": {},
     "output_type": "execute_result"
    }
   ],
   "source": [
    "results[\"best_params\"]"
   ]
  },
  {
   "cell_type": "code",
   "execution_count": 46,
   "id": "6d4397b3-5d05-4566-9ecd-1f2e6644c8d8",
   "metadata": {},
   "outputs": [
    {
     "data": {
      "text/plain": [
       "<matplotlib.legend.Legend at 0x7fba6839fbe0>"
      ]
     },
     "execution_count": 46,
     "metadata": {},
     "output_type": "execute_result"
    },
    {
     "data": {
      "image/png": "[encoded data removed]",
      "text/plain": [
       "<Figure size 432x288 with 1 Axes>"
      ]
     },
     "metadata": {
      "needs_background": "light"
     },
     "output_type": "display_data"
    }
   ],
   "source": [
    "import matplotlib.pyplot as plt\n",
    "\n",
    "history = results['hp_history']\n",
    "\n",
    "plt.plot(history.iloc[history['score'].idxmax()]['dev_error'], label=\"Dev set\")\n",
    "plt.plot(history.iloc[history['score'].idxmax()]['train_error'], label=\"Train set\")\n",
    "plt.legend()"
   ]
  },
  {
   "cell_type": "markdown",
   "id": "d1a66209-ab0c-434c-aa80-b27ca5b2784d",
   "metadata": {},
   "source": [
    "DISCUSSION\n"
   ]
  },
  {
   "cell_type": "markdown",
   "id": "b8a91838-a5dc-4c04-8259-e065cdb80126",
   "metadata": {},
   "source": [
    "### Validation\n",
    "Now that we have a tuned XGBoost model that's been trained on the train set and evaluated (during hyperparameter tuning) on the dev set, it's time to validate it on our final holdout - the validation set."
   ]
  },
  {
   "cell_type": "code",
   "execution_count": 2,
   "id": "8ebdf58b-1cf2-42a6-b7c7-f3de6e9438ef",
   "metadata": {},
   "outputs": [],
   "source": [
    "# read the model back in\n",
    "\n",
    "# convert our validation set to a Dask DMatrix\n",
    "dval = xgb.dask.DaskDMatrix(client, X_val, y_val)"
   ]
  },
  {
   "cell_type": "code",
   "execution_count": 23,
   "id": "df68eaa6-734b-44a4-a063-a230e5207ad4",
   "metadata": {},
   "outputs": [],
   "source": [
    "prediction = xgb.dask.predict(client, output, dval)"
   ]
  },
  {
   "cell_type": "code",
   "execution_count": 24,
   "id": "bcdd9337-dc10-4060-8ffa-0cb9d31eaf68",
   "metadata": {},
   "outputs": [],
   "source": [
    "pred = prediction.compute()"
   ]
  },
  {
   "cell_type": "code",
   "execution_count": 25,
   "id": "a821390b-c98f-490e-ab41-131d813e321b",
   "metadata": {},
   "outputs": [
    {
     "data": {
      "text/plain": [
       "array([0.02246135, 0.02246135, 0.02246135, ..., 0.02246135, 0.02246135,\n",
       "       0.02246135], dtype=float32)"
      ]
     },
     "execution_count": 25,
     "metadata": {},
     "output_type": "execute_result"
    }
   ],
   "source": [
    "pred"
   ]
  },
  {
   "cell_type": "markdown",
   "id": "f02fe4d2-4d5f-44e0-b521-60ab384d96e0",
   "metadata": {},
   "source": [
    "## Shut down workers"
   ]
  },
  {
   "cell_type": "code",
   "execution_count": 30,
   "id": "98525ae0-943d-49f4-9029-2013dce5496c",
   "metadata": {},
   "outputs": [
    {
     "data": {
      "text/plain": [
       "[<Response [204]>, <Response [204]>, <Response [204]>]"
      ]
     },
     "execution_count": 30,
     "metadata": {},
     "output_type": "execute_result"
    },
    {
     "name": "stderr",
     "output_type": "stream",
     "text": [
      "2022-07-12 02:34:47,831 - distributed.client - ERROR - Failed to reconnect to scheduler after 30.00 seconds, closing client\n"
     ]
    }
   ],
   "source": [
    "cdsw.stop_workers(*[worker[\"id\"] for worker in dask_cluster['scheduler'] + dask_cluster['workers']])"
   ]
  },
  {
   "cell_type": "markdown",
   "id": "f43a74a5-4559-4bf5-ac93-2c771e2442ff",
   "metadata": {},
   "source": [
    "***If this documentation includes code, including but not limited to, code examples, Cloudera makes this available to you under the terms of the Apache License, Version 2.0, including any required notices.  A copy of the Apache License Version 2.0 can be found [here](https://opensource.org/licenses/Apache-2.0).***"
   ]
  }
 ],
 "metadata": {
  "kernelspec": {
   "display_name": "Python 3 (ipykernel)",
   "language": "python",
   "name": "python3"
  },
  "language_info": {
   "codemirror_mode": {
    "name": "ipython",
    "version": 3
   },
   "file_extension": ".py",
   "mimetype": "text/x-python",
   "name": "python",
   "nbconvert_exporter": "python",
   "pygments_lexer": "ipython3",
   "version": "3.9.11"
  }
 },
 "nbformat": 4,
 "nbformat_minor": 5
}
